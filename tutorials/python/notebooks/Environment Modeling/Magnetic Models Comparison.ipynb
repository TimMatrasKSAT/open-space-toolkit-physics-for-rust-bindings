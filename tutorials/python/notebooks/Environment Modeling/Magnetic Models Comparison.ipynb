{
 "cells": [
  {
   "cell_type": "markdown",
   "metadata": {},
   "source": [
    "# Magnetic Models Comparison"
   ]
  },
  {
   "cell_type": "markdown",
   "metadata": {},
   "source": [
    "In this tutorial, we'll compare various **Magnetic Models**."
   ]
  },
  {
   "cell_type": "markdown",
   "metadata": {},
   "source": [
    "## Setup"
   ]
  },
  {
   "cell_type": "markdown",
   "metadata": {},
   "source": [
    "Let's import the necessary libraries:"
   ]
  },
  {
   "cell_type": "code",
   "execution_count": 1,
   "metadata": {},
   "outputs": [
    {
     "data": {
      "text/html": [
       "        <script type=\"text/javascript\">\n",
       "        window.PlotlyConfig = {MathJaxConfig: 'local'};\n",
       "        if (window.MathJax) {MathJax.Hub.Config({SVG: {font: \"STIX-Web\"}});}\n",
       "        if (typeof require !== 'undefined') {\n",
       "        require.undef(\"plotly\");\n",
       "        requirejs.config({\n",
       "            paths: {\n",
       "                'plotly': ['https://cdn.plot.ly/plotly-latest.min']\n",
       "            }\n",
       "        });\n",
       "        require(['plotly'], function(Plotly) {\n",
       "            window._Plotly = Plotly;\n",
       "        });\n",
       "        }\n",
       "        </script>\n",
       "        "
      ]
     },
     "metadata": {},
     "output_type": "display_data"
    }
   ],
   "source": [
    "import math\n",
    "import numpy as np\n",
    "import pandas as pd\n",
    "\n",
    "%matplotlib widget\n",
    "import matplotlib.pyplot as plt\n",
    "from matplotlib.patches import Circle\n",
    "from mpl_toolkits.mplot3d import Axes3D\n",
    "\n",
    "from plotly.offline import download_plotlyjs, init_notebook_mode, plot, iplot\n",
    "import plotly.graph_objs as go\n",
    "\n",
    "init_notebook_mode(connected = True)"
   ]
  },
  {
   "cell_type": "code",
   "execution_count": 2,
   "metadata": {},
   "outputs": [
    {
     "name": "stderr",
     "output_type": "stream",
     "text": [
      "/opt/conda/lib/python3.6/importlib/_bootstrap.py:219: RuntimeWarning:\n",
      "\n",
      "to-Python converter for library::physics::time::DateTime already registered; second conversion method ignored.\n",
      "\n",
      "/opt/conda/lib/python3.6/importlib/_bootstrap.py:219: RuntimeWarning:\n",
      "\n",
      "to-Python converter for library::math::obj::IntervalBase::Type already registered; second conversion method ignored.\n",
      "\n"
     ]
    }
   ],
   "source": [
    "import Library.Physics as Physics"
   ]
  },
  {
   "cell_type": "code",
   "execution_count": 3,
   "metadata": {},
   "outputs": [],
   "source": [
    "Scale = Physics.Time.Scale\n",
    "Instant = Physics.Time.Instant\n",
    "DateTime = Physics.Time.DateTime\n",
    "Earth = Physics.Environment.Objects.CelestialBodies.Earth\n",
    "DipoleModel = Physics.Environment.Magnetic.Dipole\n",
    "EarthMagneticModel = Physics.Environment.Magnetic.Earth"
   ]
  },
  {
   "cell_type": "markdown",
   "metadata": {},
   "source": [
    "## Comparison"
   ]
  },
  {
   "cell_type": "markdown",
   "metadata": {},
   "source": [
    "Let's set up some magnetic models:"
   ]
  },
  {
   "cell_type": "code",
   "execution_count": 4,
   "metadata": {},
   "outputs": [],
   "source": [
    "magnetic_models = {\n",
    "    EarthMagneticModel.Type.Dipole: None,\n",
    "#     EarthMagneticModel.Type.Dipole: DipoleModel(np.array((0, 0, -8.0e15))),\n",
    "    EarthMagneticModel.Type.EMM2010: None,\n",
    "    EarthMagneticModel.Type.EMM2015: None,\n",
    "    EarthMagneticModel.Type.EMM2017: None,\n",
    "    EarthMagneticModel.Type.IGRF11: None,\n",
    "    EarthMagneticModel.Type.IGRF12: None,\n",
    "    EarthMagneticModel.Type.WMM2010: None,\n",
    "    EarthMagneticModel.Type.WMM2015: None\n",
    "}"
   ]
  },
  {
   "cell_type": "code",
   "execution_count": 5,
   "metadata": {},
   "outputs": [],
   "source": [
    "def init_magnetic_models (magnetic_models):\n",
    "    \n",
    "    for key in magnetic_models:\n",
    "        \n",
    "        if magnetic_models[key] is None:\n",
    "        \n",
    "            magnetic_models[key] = EarthMagneticModel(key)"
   ]
  },
  {
   "cell_type": "code",
   "execution_count": 6,
   "metadata": {},
   "outputs": [],
   "source": [
    "init_magnetic_models(magnetic_models)"
   ]
  },
  {
   "cell_type": "code",
   "execution_count": 7,
   "metadata": {},
   "outputs": [],
   "source": [
    "instant = Instant.DateTime(DateTime(2015, 1, 1, 0, 0, 0), Scale.UTC)"
   ]
  },
  {
   "cell_type": "code",
   "execution_count": 8,
   "metadata": {},
   "outputs": [
    {
     "data": {
      "text/plain": [
       "array([[-2.51691725e-06],\n",
       "       [-3.82878902e-06],\n",
       "       [ 2.22841012e-05]])"
      ]
     },
     "execution_count": 8,
     "metadata": {},
     "output_type": "execute_result"
    }
   ],
   "source": [
    "magnetic_models[EarthMagneticModel.Type.Dipole].getFieldValueAt(np.array((7000e3, 0.0, 0.0)), instant)"
   ]
  },
  {
   "cell_type": "code",
   "execution_count": 9,
   "metadata": {},
   "outputs": [
    {
     "data": {
      "text/plain": [
       "array([[ 9.75689422e-06],\n",
       "       [-2.11723158e-06],\n",
       "       [ 2.04720913e-05]])"
      ]
     },
     "execution_count": 9,
     "metadata": {},
     "output_type": "execute_result"
    }
   ],
   "source": [
    "magnetic_models[EarthMagneticModel.Type.EMM2010].getFieldValueAt(np.array((7000e3, 0.0, 0.0)), instant)"
   ]
  },
  {
   "cell_type": "code",
   "execution_count": 10,
   "metadata": {},
   "outputs": [],
   "source": [
    "def calc_B_2d (magnetic_model, X, Z):\n",
    "    \n",
    "    size_x = len(X)\n",
    "    size_z = len(X[0])\n",
    "    \n",
    "    size = size_x * size_z\n",
    "    \n",
    "    Bx = np.zeros(size)\n",
    "    Bz = np.zeros(size)\n",
    "    \n",
    "    earth_radius_m = Earth.EquatorialRadius.inMeters()\n",
    "    \n",
    "    i = 0\n",
    "    \n",
    "    for x, z in np.vstack([X.ravel(), Z.ravel()]).T:\n",
    "        \n",
    "        if math.sqrt(pow(abs(x), 2) + pow(abs(z), 2)) < earth_radius_m:\n",
    "            \n",
    "            Bx[i] = 0.0\n",
    "            Bz[i] = 0.0\n",
    "            \n",
    "        else:\n",
    "\n",
    "            try:\n",
    "\n",
    "                b = magnetic_model.getFieldValueAt(np.array((x, 0.0, z)), instant).T[0]\n",
    "\n",
    "                bx = b[0]\n",
    "                bz = b[2]\n",
    "            \n",
    "                Bx[i] = bx\n",
    "                Bz[i] = bz\n",
    "\n",
    "            except Exception as e:\n",
    "\n",
    "                print(e)\n",
    "\n",
    "                print('x = {}'.format(x))\n",
    "                print('z = {}'.format(z))\n",
    "                \n",
    "                raise e\n",
    "            \n",
    "        i += 1\n",
    "        \n",
    "    return Bx.reshape(size_x, size_z), \\\n",
    "           Bz.reshape(size_x, size_z)"
   ]
  },
  {
   "cell_type": "code",
   "execution_count": 11,
   "metadata": {},
   "outputs": [],
   "source": [
    "def calc_B_3d (magnetic_model, X, Y, Z):\n",
    "    \n",
    "    size_x = len(X)\n",
    "    size_y = len(X[0])\n",
    "    size_z = len(X[0][0])\n",
    "    \n",
    "    size = size_x * size_y * size_z\n",
    "    \n",
    "    Bx = np.zeros(size)\n",
    "    By = np.zeros(size)\n",
    "    Bz = np.zeros(size)\n",
    "    \n",
    "    earth_radius_m = Earth.EquatorialRadius.inMeters()\n",
    "    \n",
    "    i = 0\n",
    "    \n",
    "    for x, y, z in np.vstack([X.ravel(), Y.ravel(), Z.ravel()]).T:\n",
    "        \n",
    "        if math.sqrt(pow(abs(x), 2) + pow(abs(y), 2) + pow(abs(z), 2)) < earth_radius_m:\n",
    "            \n",
    "            Bx[i] = 0.0\n",
    "            By[i] = 0.0\n",
    "            Bz[i] = 0.0\n",
    "            \n",
    "        else:\n",
    "\n",
    "            try:\n",
    "\n",
    "                b = magnetic_model.getFieldValueAt(np.array((x, y, z)), instant).T[0]\n",
    "\n",
    "                bx = b[0]\n",
    "                by = b[1]\n",
    "                bz = b[2]\n",
    "\n",
    "                Bx[i] = bx\n",
    "                By[i] = by\n",
    "                Bz[i] = bz\n",
    "\n",
    "            except Exception as e:\n",
    "\n",
    "                print(e)\n",
    "\n",
    "                print('x = {}'.format(x))\n",
    "                print('y = {}'.format(y))\n",
    "                print('z = {}'.format(z))\n",
    "                \n",
    "                raise e\n",
    "            \n",
    "        i += 1\n",
    "        \n",
    "    return Bx.reshape(size_x, size_y, size_z), \\\n",
    "           By.reshape(size_x, size_y, size_z), \\\n",
    "           Bz.reshape(size_x, size_y, size_z)"
   ]
  },
  {
   "cell_type": "code",
   "execution_count": 12,
   "metadata": {},
   "outputs": [],
   "source": [
    "lim = 100000e3\n",
    "\n",
    "xlim = (-lim, +lim)\n",
    "zlim = (-lim, +lim)\n",
    "\n",
    "nx, nz = 64, 64\n",
    "\n",
    "x = np.linspace(xlim[0], xlim[1], nx)\n",
    "z = np.linspace(zlim[0], zlim[1], nz)\n",
    "\n",
    "X, Z = np.meshgrid(x, z)\n",
    "\n",
    "Bx, Bz = calc_B_2d(magnetic_models[EarthMagneticModel.Type.EMM2015], X, Z)"
   ]
  },
  {
   "cell_type": "code",
   "execution_count": 13,
   "metadata": {},
   "outputs": [
    {
     "data": {
      "application/vnd.jupyter.widget-view+json": {
       "model_id": "b182ffe220074c2e9bb0efe9c3b814cc",
       "version_major": 2,
       "version_minor": 0
      },
      "text/plain": [
       "FigureCanvasNbAgg()"
      ]
     },
     "metadata": {},
     "output_type": "display_data"
    },
    {
     "name": "stderr",
     "output_type": "stream",
     "text": [
      "/opt/conda/lib/python3.6/site-packages/ipykernel_launcher.py:11: RuntimeWarning:\n",
      "\n",
      "divide by zero encountered in log\n",
      "\n"
     ]
    }
   ],
   "source": [
    "fig = plt.figure()\n",
    "\n",
    "ax = fig.add_subplot(111)\n",
    "\n",
    "# Plot Earth circle\n",
    "\n",
    "ax.add_artist(Circle((0.0, 0.0), Earth.EquatorialRadius.inMeters(), color = 'b'))\n",
    "\n",
    "# Plot B\n",
    "\n",
    "color = 2 * np.log(np.hypot(Bx, Bz))\n",
    "\n",
    "ax.streamplot(x, z, Bx, Bz, color=color, linewidth=1, cmap=plt.cm.inferno,\n",
    "              density=2, arrowstyle='->', arrowsize=1.5)\n",
    "\n",
    "ax.set_xlabel('$x_{ITRF}\\ [m]$')\n",
    "ax.set_ylabel('$z_{ITRF}\\ [m]$')\n",
    "ax.set_xlim(xlim[0], xlim[1])\n",
    "ax.set_ylim(zlim[0], zlim[1])\n",
    "ax.set_aspect('equal')\n",
    "\n",
    "plt.show()"
   ]
  },
  {
   "cell_type": "code",
   "execution_count": 14,
   "metadata": {},
   "outputs": [],
   "source": [
    "lim = 10000e3\n",
    "\n",
    "xlim = (-lim, +lim)\n",
    "ylim = (-lim, +lim)\n",
    "zlim = (-lim, +lim)\n",
    "\n",
    "nx, ny, nz = 9, 9, 9\n",
    "\n",
    "x = np.linspace(xlim[0], xlim[1], nx)\n",
    "y = np.linspace(ylim[0], ylim[1], ny)\n",
    "z = np.linspace(zlim[0], zlim[1], nz)\n",
    "\n",
    "X, Y, Z = np.meshgrid(x, y, z)\n",
    "\n",
    "Bx, By, Bz = calc_B_3d(magnetic_models[EarthMagneticModel.Type.EMM2010], X, Y, Z)\n",
    "\n",
    "# print('X = ', X)\n",
    "# print('Y = ', Y)\n",
    "# print('Z = ', Z)\n",
    "\n",
    "# print('Bx = ', Bx)\n",
    "# print('By = ', By)\n",
    "# print('Bz = ', Bz)"
   ]
  },
  {
   "cell_type": "code",
   "execution_count": 16,
   "metadata": {},
   "outputs": [
    {
     "data": {
      "application/vnd.jupyter.widget-view+json": {
       "model_id": "89ae6745031a483a8d69e3db683f2b00",
       "version_major": 2,
       "version_minor": 0
      },
      "text/plain": [
       "FigureCanvasNbAgg()"
      ]
     },
     "metadata": {},
     "output_type": "display_data"
    },
    {
     "name": "stderr",
     "output_type": "stream",
     "text": [
      "/opt/conda/lib/python3.6/site-packages/ipykernel_launcher.py:7: DeprecationWarning:\n",
      "\n",
      "object of type <class 'float'> cannot be safely interpreted as an integer.\n",
      "\n",
      "/opt/conda/lib/python3.6/site-packages/ipykernel_launcher.py:8: DeprecationWarning:\n",
      "\n",
      "object of type <class 'float'> cannot be safely interpreted as an integer.\n",
      "\n"
     ]
    }
   ],
   "source": [
    "fig = plt.figure()\n",
    "\n",
    "ax = fig.gca(projection = '3d')\n",
    "\n",
    "# Plot Earth sphere\n",
    "\n",
    "u = np.linspace(0, 2.0 * np.pi, 100.0)\n",
    "v = np.linspace(0, np.pi, 100.0)\n",
    "\n",
    "earth_radius_m = float(Earth.EquatorialRadius.inMeters())\n",
    "\n",
    "x = earth_radius_m * np.outer(np.cos(u), np.sin(v))\n",
    "y = earth_radius_m * np.outer(np.sin(u), np.sin(v))\n",
    "z = earth_radius_m * np.outer(np.ones(np.size(u)), np.cos(v))\n",
    "\n",
    "ax.plot_surface(x, y, z,  rstride = 4, cstride = 4, color = 'b', linewidth = 0, alpha = 1)\n",
    "\n",
    "# Plot B\n",
    "\n",
    "ax.quiver(X, Y, Z, Bx, By, Bz, length = 1e11, color = 'g')\n",
    "\n",
    "ax.set_xlabel('$x_{ITRF}\\ [m]$')\n",
    "ax.set_ylabel('$y_{ITRF}\\ [m]$')\n",
    "ax.set_zlabel('$z_{ITRF}\\ [m]$')\n",
    "ax.set_xlim(xlim[0], xlim[1])\n",
    "ax.set_ylim(ylim[0], ylim[1])\n",
    "ax.set_zlim(zlim[0], zlim[1])\n",
    "ax.set_aspect('equal')\n",
    "\n",
    "plt.show()"
   ]
  },
  {
   "cell_type": "code",
   "execution_count": null,
   "metadata": {},
   "outputs": [],
   "source": []
  }
 ],
 "metadata": {
  "kernelspec": {
   "display_name": "Python 3",
   "language": "python",
   "name": "python3"
  },
  "language_info": {
   "codemirror_mode": {
    "name": "ipython",
    "version": 3
   },
   "file_extension": ".py",
   "mimetype": "text/x-python",
   "name": "python",
   "nbconvert_exporter": "python",
   "pygments_lexer": "ipython3",
   "version": "3.6.7"
  }
 },
 "nbformat": 4,
 "nbformat_minor": 2
}
