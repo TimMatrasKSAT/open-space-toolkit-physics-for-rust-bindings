{
 "cells": [
  {
   "cell_type": "markdown",
   "metadata": {},
   "source": [
    "# Magnetic Models Comparison"
   ]
  },
  {
   "cell_type": "markdown",
   "metadata": {},
   "source": [
    "In this tutorial, we'll compare various **Magnetic Models**."
   ]
  },
  {
   "cell_type": "markdown",
   "metadata": {},
   "source": [
    "## Setup"
   ]
  },
  {
   "cell_type": "markdown",
   "metadata": {},
   "source": [
    "Let's import the necessary libraries:"
   ]
  },
  {
   "cell_type": "code",
   "execution_count": 1,
   "metadata": {},
   "outputs": [
    {
     "data": {
      "text/html": [
       "        <script type=\"text/javascript\">\n",
       "        window.PlotlyConfig = {MathJaxConfig: 'local'};\n",
       "        if (window.MathJax) {MathJax.Hub.Config({SVG: {font: \"STIX-Web\"}});}\n",
       "        if (typeof require !== 'undefined') {\n",
       "        require.undef(\"plotly\");\n",
       "        requirejs.config({\n",
       "            paths: {\n",
       "                'plotly': ['https://cdn.plot.ly/plotly-latest.min']\n",
       "            }\n",
       "        });\n",
       "        require(['plotly'], function(Plotly) {\n",
       "            window._Plotly = Plotly;\n",
       "        });\n",
       "        }\n",
       "        </script>\n",
       "        "
      ]
     },
     "metadata": {},
     "output_type": "display_data"
    }
   ],
   "source": [
    "import math\n",
    "import numpy as np\n",
    "import pandas as pd\n",
    "\n",
    "%matplotlib widget\n",
    "import matplotlib.pyplot as plt\n",
    "from matplotlib.patches import Circle\n",
    "from mpl_toolkits.mplot3d import Axes3D\n",
    "\n",
    "from plotly.offline import download_plotlyjs, init_notebook_mode, plot, iplot\n",
    "import plotly.graph_objs as go\n",
    "\n",
    "init_notebook_mode(connected = True)"
   ]
  },
  {
   "cell_type": "code",
   "execution_count": 2,
   "metadata": {},
   "outputs": [
    {
     "name": "stderr",
     "output_type": "stream",
     "text": [
      "/opt/conda/lib/python3.7/importlib/_bootstrap.py:219: RuntimeWarning:\n",
      "\n",
      "to-Python converter for ostk::physics::time::DateTime already registered; second conversion method ignored.\n",
      "\n",
      "/opt/conda/lib/python3.7/importlib/_bootstrap.py:219: RuntimeWarning:\n",
      "\n",
      "to-Python converter for ostk::math::obj::IntervalBase::Type already registered; second conversion method ignored.\n",
      "\n"
     ]
    }
   ],
   "source": [
    "import ostk.physics as physics"
   ]
  },
  {
   "cell_type": "code",
   "execution_count": 3,
   "metadata": {},
   "outputs": [],
   "source": [
    "Scale = physics.time.Scale\n",
    "Instant = physics.time.Instant\n",
    "DateTime = physics.time.DateTime\n",
    "Earth = physics.environment.objects.celestial_bodies.Earth\n",
    "DipoleModel = physics.environment.magnetic.Dipole\n",
    "EarthMagneticModel = physics.environment.magnetic.Earth"
   ]
  },
  {
   "cell_type": "markdown",
   "metadata": {},
   "source": [
    "## Comparison"
   ]
  },
  {
   "cell_type": "markdown",
   "metadata": {},
   "source": [
    "Let's set up some magnetic models:"
   ]
  },
  {
   "cell_type": "code",
   "execution_count": 4,
   "metadata": {},
   "outputs": [],
   "source": [
    "magnetic_models = {\n",
    "    EarthMagneticModel.Type.Dipole: None,\n",
    "#     EarthMagneticModel.Type.Dipole: DipoleModel(np.array((0, 0, -8.0e15))),\n",
    "    EarthMagneticModel.Type.EMM2010: None,\n",
    "    EarthMagneticModel.Type.EMM2015: None,\n",
    "    EarthMagneticModel.Type.EMM2017: None,\n",
    "    EarthMagneticModel.Type.IGRF11: None,\n",
    "    EarthMagneticModel.Type.IGRF12: None,\n",
    "    EarthMagneticModel.Type.WMM2010: None,\n",
    "    EarthMagneticModel.Type.WMM2015: None\n",
    "}"
   ]
  },
  {
   "cell_type": "code",
   "execution_count": 5,
   "metadata": {},
   "outputs": [],
   "source": [
    "def init_magnetic_models (magnetic_models):\n",
    "    \n",
    "    for key in magnetic_models:\n",
    "        \n",
    "        if magnetic_models[key] is None:\n",
    "        \n",
    "            magnetic_models[key] = EarthMagneticModel(key)"
   ]
  },
  {
   "cell_type": "code",
   "execution_count": 6,
   "metadata": {},
   "outputs": [],
   "source": [
    "init_magnetic_models(magnetic_models)"
   ]
  },
  {
   "cell_type": "code",
   "execution_count": 7,
   "metadata": {},
   "outputs": [],
   "source": [
    "instant = Instant.date_time(DateTime(2015, 1, 1, 0, 0, 0), Scale.UTC)"
   ]
  },
  {
   "cell_type": "code",
   "execution_count": 8,
   "metadata": {},
   "outputs": [
    {
     "data": {
      "text/plain": [
       "array([[-2.51691725e-06],\n",
       "       [-3.82878902e-06],\n",
       "       [ 2.22841012e-05]])"
      ]
     },
     "execution_count": 8,
     "metadata": {},
     "output_type": "execute_result"
    }
   ],
   "source": [
    "magnetic_models[EarthMagneticModel.Type.Dipole].get_field_value_at(np.array((7000e3, 0.0, 0.0)), instant)"
   ]
  },
  {
   "cell_type": "code",
   "execution_count": 9,
   "metadata": {},
   "outputs": [
    {
     "data": {
      "text/plain": [
       "array([[ 9.75689422e-06],\n",
       "       [-2.11723158e-06],\n",
       "       [ 2.04720913e-05]])"
      ]
     },
     "execution_count": 9,
     "metadata": {},
     "output_type": "execute_result"
    }
   ],
   "source": [
    "magnetic_models[EarthMagneticModel.Type.EMM2010].get_field_value_at(np.array((7000e3, 0.0, 0.0)), instant)"
   ]
  },
  {
   "cell_type": "code",
   "execution_count": 16,
   "metadata": {},
   "outputs": [],
   "source": [
    "def calc_B_2d (magnetic_model, X, Z):\n",
    "    \n",
    "    size_x = len(X)\n",
    "    size_z = len(X[0])\n",
    "    \n",
    "    size = size_x * size_z\n",
    "    \n",
    "    Bx = np.zeros(size)\n",
    "    Bz = np.zeros(size)\n",
    "    \n",
    "    earth_radius_m = Earth.equatorial_radius.in_meters()\n",
    "    \n",
    "    i = 0\n",
    "    \n",
    "    for x, z in np.vstack([X.ravel(), Z.ravel()]).T:\n",
    "        \n",
    "        if math.sqrt(pow(abs(x), 2) + pow(abs(z), 2)) < earth_radius_m:\n",
    "            \n",
    "            Bx[i] = 0.0\n",
    "            Bz[i] = 0.0\n",
    "            \n",
    "        else:\n",
    "\n",
    "            try:\n",
    "\n",
    "                b = magnetic_model.get_field_value_at(np.array((x, 0.0, z)), instant).T[0]\n",
    "\n",
    "                bx = b[0]\n",
    "                bz = b[2]\n",
    "            \n",
    "                Bx[i] = bx\n",
    "                Bz[i] = bz\n",
    "\n",
    "            except Exception as e:\n",
    "\n",
    "                print(e)\n",
    "\n",
    "                print('x = {}'.format(x))\n",
    "                print('z = {}'.format(z))\n",
    "                \n",
    "                raise e\n",
    "            \n",
    "        i += 1\n",
    "        \n",
    "    return Bx.reshape(size_x, size_z), \\\n",
    "           Bz.reshape(size_x, size_z)"
   ]
  },
  {
   "cell_type": "code",
   "execution_count": 17,
   "metadata": {},
   "outputs": [],
   "source": [
    "def calc_B_3d (magnetic_model, X, Y, Z):\n",
    "    \n",
    "    size_x = len(X)\n",
    "    size_y = len(X[0])\n",
    "    size_z = len(X[0][0])\n",
    "    \n",
    "    size = size_x * size_y * size_z\n",
    "    \n",
    "    Bx = np.zeros(size)\n",
    "    By = np.zeros(size)\n",
    "    Bz = np.zeros(size)\n",
    "    \n",
    "    earth_radius_m = Earth.equatorial_radius.in_meters()\n",
    "    \n",
    "    i = 0\n",
    "    \n",
    "    for x, y, z in np.vstack([X.ravel(), Y.ravel(), Z.ravel()]).T:\n",
    "        \n",
    "        if math.sqrt(pow(abs(x), 2) + pow(abs(y), 2) + pow(abs(z), 2)) < earth_radius_m:\n",
    "            \n",
    "            Bx[i] = 0.0\n",
    "            By[i] = 0.0\n",
    "            Bz[i] = 0.0\n",
    "            \n",
    "        else:\n",
    "\n",
    "            try:\n",
    "\n",
    "                b = magnetic_model.get_field_value_at(np.array((x, y, z)), instant).T[0]\n",
    "\n",
    "                bx = b[0]\n",
    "                by = b[1]\n",
    "                bz = b[2]\n",
    "\n",
    "                Bx[i] = bx\n",
    "                By[i] = by\n",
    "                Bz[i] = bz\n",
    "\n",
    "            except Exception as e:\n",
    "\n",
    "                print(e)\n",
    "\n",
    "                print('x = {}'.format(x))\n",
    "                print('y = {}'.format(y))\n",
    "                print('z = {}'.format(z))\n",
    "                \n",
    "                raise e\n",
    "            \n",
    "        i += 1\n",
    "        \n",
    "    return Bx.reshape(size_x, size_y, size_z), \\\n",
    "           By.reshape(size_x, size_y, size_z), \\\n",
    "           Bz.reshape(size_x, size_y, size_z)"
   ]
  },
  {
   "cell_type": "code",
   "execution_count": 18,
   "metadata": {},
   "outputs": [],
   "source": [
    "lim = 100000e3\n",
    "\n",
    "xlim = (-lim, +lim)\n",
    "zlim = (-lim, +lim)\n",
    "\n",
    "nx, nz = 64, 64\n",
    "\n",
    "x = np.linspace(xlim[0], xlim[1], nx)\n",
    "z = np.linspace(zlim[0], zlim[1], nz)\n",
    "\n",
    "X, Z = np.meshgrid(x, z)\n",
    "\n",
    "Bx, Bz = calc_B_2d(magnetic_models[EarthMagneticModel.Type.EMM2015], X, Z)"
   ]
  },
  {
   "cell_type": "code",
   "execution_count": 19,
   "metadata": {},
   "outputs": [
    {
     "data": {
      "application/vnd.jupyter.widget-view+json": {
       "model_id": "fbb596fce7ae423c8aabb779d9fdf269",
       "version_major": 2,
       "version_minor": 0
      },
      "text/plain": [
       "Canvas(toolbar=Toolbar(toolitems=[('Home', 'Reset original view', 'home', 'home'), ('Back', 'Back to previous …"
      ]
     },
     "metadata": {},
     "output_type": "display_data"
    },
    {
     "name": "stderr",
     "output_type": "stream",
     "text": [
      "/opt/conda/lib/python3.7/site-packages/ipykernel_launcher.py:11: RuntimeWarning:\n",
      "\n",
      "divide by zero encountered in log\n",
      "\n"
     ]
    }
   ],
   "source": [
    "fig = plt.figure()\n",
    "\n",
    "ax = fig.add_subplot(111)\n",
    "\n",
    "# Plot Earth circle\n",
    "\n",
    "ax.add_artist(Circle((0.0, 0.0), Earth.equatorial_radius.in_meters(), color = 'b'))\n",
    "\n",
    "# Plot B\n",
    "\n",
    "color = 2 * np.log(np.hypot(Bx, Bz))\n",
    "\n",
    "ax.streamplot(x, z, Bx, Bz, color=color, linewidth=1, cmap=plt.cm.inferno,\n",
    "              density=2, arrowstyle='->', arrowsize=1.5)\n",
    "\n",
    "ax.set_xlabel('$x_{ITRF}\\ [m]$')\n",
    "ax.set_ylabel('$z_{ITRF}\\ [m]$')\n",
    "ax.set_xlim(xlim[0], xlim[1])\n",
    "ax.set_ylim(zlim[0], zlim[1])\n",
    "ax.set_aspect('equal')\n",
    "\n",
    "plt.show()"
   ]
  },
  {
   "cell_type": "code",
   "execution_count": 20,
   "metadata": {},
   "outputs": [],
   "source": [
    "lim = 10000e3\n",
    "\n",
    "xlim = (-lim, +lim)\n",
    "ylim = (-lim, +lim)\n",
    "zlim = (-lim, +lim)\n",
    "\n",
    "nx, ny, nz = 9, 9, 9\n",
    "\n",
    "x = np.linspace(xlim[0], xlim[1], nx)\n",
    "y = np.linspace(ylim[0], ylim[1], ny)\n",
    "z = np.linspace(zlim[0], zlim[1], nz)\n",
    "\n",
    "X, Y, Z = np.meshgrid(x, y, z)\n",
    "\n",
    "Bx, By, Bz = calc_B_3d(magnetic_models[EarthMagneticModel.Type.EMM2010], X, Y, Z)\n",
    "\n",
    "# print('X = ', X)\n",
    "# print('Y = ', Y)\n",
    "# print('Z = ', Z)\n",
    "\n",
    "# print('Bx = ', Bx)\n",
    "# print('By = ', By)\n",
    "# print('Bz = ', Bz)"
   ]
  },
  {
   "cell_type": "code",
   "execution_count": 21,
   "metadata": {},
   "outputs": [
    {
     "data": {
      "application/vnd.jupyter.widget-view+json": {
       "model_id": "68603f21c6a942909b56137c55f0d5a5",
       "version_major": 2,
       "version_minor": 0
      },
      "text/plain": [
       "Canvas(toolbar=Toolbar(toolitems=[('Home', 'Reset original view', 'home', 'home'), ('Back', 'Back to previous …"
      ]
     },
     "metadata": {},
     "output_type": "display_data"
    },
    {
     "ename": "TypeError",
     "evalue": "object of type <class 'float'> cannot be safely interpreted as an integer.",
     "output_type": "error",
     "traceback": [
      "\u001b[0;31m-----------------------------------\u001b[0m",
      "\u001b[0;31mTypeError\u001b[0mTraceback (most recent call last)",
      "\u001b[0;32m/opt/conda/lib/python3.7/site-packages/numpy/core/function_base.py\u001b[0m in \u001b[0;36mlinspace\u001b[0;34m(start, stop, num, endpoint, retstep, dtype, axis)\u001b[0m\n\u001b[1;32m    116\u001b[0m     \u001b[0;32mtry\u001b[0m\u001b[0;34m:\u001b[0m\u001b[0;34m\u001b[0m\u001b[0;34m\u001b[0m\u001b[0m\n\u001b[0;32m--> 117\u001b[0;31m         \u001b[0mnum\u001b[0m \u001b[0;34m=\u001b[0m \u001b[0moperator\u001b[0m\u001b[0;34m.\u001b[0m\u001b[0mindex\u001b[0m\u001b[0;34m(\u001b[0m\u001b[0mnum\u001b[0m\u001b[0;34m)\u001b[0m\u001b[0;34m\u001b[0m\u001b[0;34m\u001b[0m\u001b[0m\n\u001b[0m\u001b[1;32m    118\u001b[0m     \u001b[0;32mexcept\u001b[0m \u001b[0mTypeError\u001b[0m\u001b[0;34m:\u001b[0m\u001b[0;34m\u001b[0m\u001b[0;34m\u001b[0m\u001b[0m\n",
      "\u001b[0;31mTypeError\u001b[0m: 'float' object cannot be interpreted as an integer",
      "\nDuring handling of the above exception, another exception occurred:\n",
      "\u001b[0;31mTypeError\u001b[0mTraceback (most recent call last)",
      "\u001b[0;32m<ipython-input-21-185123ea3cf5>\u001b[0m in \u001b[0;36m<module>\u001b[0;34m\u001b[0m\n\u001b[1;32m      5\u001b[0m \u001b[0;31m# Plot Earth sphere\u001b[0m\u001b[0;34m\u001b[0m\u001b[0;34m\u001b[0m\u001b[0;34m\u001b[0m\u001b[0m\n\u001b[1;32m      6\u001b[0m \u001b[0;34m\u001b[0m\u001b[0m\n\u001b[0;32m----> 7\u001b[0;31m \u001b[0mu\u001b[0m \u001b[0;34m=\u001b[0m \u001b[0mnp\u001b[0m\u001b[0;34m.\u001b[0m\u001b[0mlinspace\u001b[0m\u001b[0;34m(\u001b[0m\u001b[0;36m0\u001b[0m\u001b[0;34m,\u001b[0m \u001b[0;36m2.0\u001b[0m \u001b[0;34m*\u001b[0m \u001b[0mnp\u001b[0m\u001b[0;34m.\u001b[0m\u001b[0mpi\u001b[0m\u001b[0;34m,\u001b[0m \u001b[0;36m100.0\u001b[0m\u001b[0;34m)\u001b[0m\u001b[0;34m\u001b[0m\u001b[0;34m\u001b[0m\u001b[0m\n\u001b[0m\u001b[1;32m      8\u001b[0m \u001b[0mv\u001b[0m \u001b[0;34m=\u001b[0m \u001b[0mnp\u001b[0m\u001b[0;34m.\u001b[0m\u001b[0mlinspace\u001b[0m\u001b[0;34m(\u001b[0m\u001b[0;36m0\u001b[0m\u001b[0;34m,\u001b[0m \u001b[0mnp\u001b[0m\u001b[0;34m.\u001b[0m\u001b[0mpi\u001b[0m\u001b[0;34m,\u001b[0m \u001b[0;36m100.0\u001b[0m\u001b[0;34m)\u001b[0m\u001b[0;34m\u001b[0m\u001b[0;34m\u001b[0m\u001b[0m\n\u001b[1;32m      9\u001b[0m \u001b[0;34m\u001b[0m\u001b[0m\n",
      "\u001b[0;32m<__array_function__ internals>\u001b[0m in \u001b[0;36mlinspace\u001b[0;34m(*args, **kwargs)\u001b[0m\n",
      "\u001b[0;32m/opt/conda/lib/python3.7/site-packages/numpy/core/function_base.py\u001b[0m in \u001b[0;36mlinspace\u001b[0;34m(start, stop, num, endpoint, retstep, dtype, axis)\u001b[0m\n\u001b[1;32m    119\u001b[0m         raise TypeError(\n\u001b[1;32m    120\u001b[0m             \u001b[0;34m\"object of type {} cannot be safely interpreted as an integer.\"\u001b[0m\u001b[0;34m\u001b[0m\u001b[0;34m\u001b[0m\u001b[0m\n\u001b[0;32m--> 121\u001b[0;31m                 .format(type(num)))\n\u001b[0m\u001b[1;32m    122\u001b[0m \u001b[0;34m\u001b[0m\u001b[0m\n\u001b[1;32m    123\u001b[0m     \u001b[0;32mif\u001b[0m \u001b[0mnum\u001b[0m \u001b[0;34m<\u001b[0m \u001b[0;36m0\u001b[0m\u001b[0;34m:\u001b[0m\u001b[0;34m\u001b[0m\u001b[0;34m\u001b[0m\u001b[0m\n",
      "\u001b[0;31mTypeError\u001b[0m: object of type <class 'float'> cannot be safely interpreted as an integer."
     ]
    }
   ],
   "source": [
    "fig = plt.figure()\n",
    "\n",
    "ax = fig.gca(projection = '3d')\n",
    "\n",
    "# Plot Earth sphere\n",
    "\n",
    "u = np.linspace(0.0, 2.0 * np.pi, 100)\n",
    "v = np.linspace(0.0, np.pi, 100)\n",
    "\n",
    "earth_radius_m = float(Earth.EquatorialRadius.inMeters())\n",
    "\n",
    "x = earth_radius_m * np.outer(np.cos(u), np.sin(v))\n",
    "y = earth_radius_m * np.outer(np.sin(u), np.sin(v))\n",
    "z = earth_radius_m * np.outer(np.ones(np.size(u)), np.cos(v))\n",
    "\n",
    "ax.plot_surface(x, y, z,  rstride = 4, cstride = 4, color = 'b', linewidth = 0, alpha = 1)\n",
    "\n",
    "# Plot B\n",
    "\n",
    "ax.quiver(X, Y, Z, Bx, By, Bz, length = 1e11, color = 'g')\n",
    "\n",
    "ax.set_xlabel('$x_{ITRF}\\ [m]$')\n",
    "ax.set_ylabel('$y_{ITRF}\\ [m]$')\n",
    "ax.set_zlabel('$z_{ITRF}\\ [m]$')\n",
    "ax.set_xlim(xlim[0], xlim[1])\n",
    "ax.set_ylim(ylim[0], ylim[1])\n",
    "ax.set_zlim(zlim[0], zlim[1])\n",
    "ax.set_aspect('equal')\n",
    "\n",
    "plt.show()"
   ]
  },
  {
   "cell_type": "code",
   "execution_count": null,
   "metadata": {},
   "outputs": [],
   "source": []
  }
 ],
 "metadata": {
  "kernelspec": {
   "display_name": "Python 3",
   "language": "python",
   "name": "python3"
  },
  "language_info": {
   "codemirror_mode": {
    "name": "ipython",
    "version": 3
   },
   "file_extension": ".py",
   "mimetype": "text/x-python",
   "name": "python",
   "nbconvert_exporter": "python",
   "pygments_lexer": "ipython3",
   "version": "3.7.3"
  }
 },
 "nbformat": 4,
 "nbformat_minor": 4
}