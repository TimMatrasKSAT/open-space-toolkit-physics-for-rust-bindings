{
 "cells": [
  {
   "cell_type": "markdown",
   "metadata": {},
   "source": [
    "# Gravitational Models Comparison"
   ]
  },
  {
   "cell_type": "markdown",
   "metadata": {},
   "source": [
    "In this tutorial, we'll compare various `Gravitational Models`."
   ]
  },
  {
   "cell_type": "markdown",
   "metadata": {},
   "source": [
    "## Setup"
   ]
  },
  {
   "cell_type": "markdown",
   "metadata": {},
   "source": [
    "Let's install the necessary libraries:"
   ]
  },
  {
   "cell_type": "code",
   "execution_count": 1,
   "metadata": {},
   "outputs": [],
   "source": [
    "import sys\n",
    "\n",
    "! {sys.executable} -m pip install --quiet LibraryPhysicsPy"
   ]
  },
  {
   "cell_type": "code",
   "execution_count": 1,
   "metadata": {},
   "outputs": [
    {
     "data": {
      "text/html": [
       "<script type=\"text/javascript\">window.PlotlyConfig = {MathJaxConfig: 'local'};</script><script type=\"text/javascript\">if (window.MathJax) {MathJax.Hub.Config({SVG: {font: \"STIX-Web\"}});}</script><script>requirejs.config({paths: { 'plotly': ['https://cdn.plot.ly/plotly-latest.min']},});if(!window._Plotly) {require(['plotly'],function(plotly) {window._Plotly=plotly;});}</script>"
      ],
      "text/vnd.plotly.v1+html": [
       "<script type=\"text/javascript\">window.PlotlyConfig = {MathJaxConfig: 'local'};</script><script type=\"text/javascript\">if (window.MathJax) {MathJax.Hub.Config({SVG: {font: \"STIX-Web\"}});}</script><script>requirejs.config({paths: { 'plotly': ['https://cdn.plot.ly/plotly-latest.min']},});if(!window._Plotly) {require(['plotly'],function(plotly) {window._Plotly=plotly;});}</script>"
      ]
     },
     "metadata": {},
     "output_type": "display_data"
    }
   ],
   "source": [
    "import numpy as np\n",
    "import pandas as pd\n",
    "\n",
    "from plotly.offline import download_plotlyjs, init_notebook_mode, plot, iplot\n",
    "import plotly.graph_objs as go\n",
    "\n",
    "init_notebook_mode(connected = True)"
   ]
  },
  {
   "cell_type": "code",
   "execution_count": 2,
   "metadata": {},
   "outputs": [
    {
     "name": "stderr",
     "output_type": "stream",
     "text": [
      "/opt/conda/lib/python3.6/importlib/_bootstrap.py:219: RuntimeWarning:\n",
      "\n",
      "to-Python converter for library::physics::time::DateTime already registered; second conversion method ignored.\n",
      "\n",
      "/opt/conda/lib/python3.6/importlib/_bootstrap.py:219: RuntimeWarning:\n",
      "\n",
      "to-Python converter for library::math::obj::IntervalBase::Type already registered; second conversion method ignored.\n",
      "\n"
     ]
    }
   ],
   "source": [
    "import Library.Physics as Physics"
   ]
  },
  {
   "cell_type": "code",
   "execution_count": 3,
   "metadata": {},
   "outputs": [],
   "source": [
    "Instant = Physics.Time.Instant\n",
    "Earth = Physics.Environment.Objects.CelestialBodies.Earth\n",
    "SphericalGravitationalModel = Physics.Environment.Gravitational.Spherical\n",
    "EarthGravitationalModel = Physics.Environment.Gravitational.Earth"
   ]
  },
  {
   "cell_type": "markdown",
   "metadata": {},
   "source": [
    "## Comparison"
   ]
  },
  {
   "cell_type": "markdown",
   "metadata": {},
   "source": [
    "Let's set up some gravitational models:"
   ]
  },
  {
   "cell_type": "code",
   "execution_count": 73,
   "metadata": {},
   "outputs": [],
   "source": [
    "gravitational_models = [\n",
    "    SphericalGravitationalModel(Earth.Models.WGS84.GravitationalParameter),\n",
    "    EarthGravitationalModel(EarthGravitationalModel.Type.WGS84),\n",
    "    EarthGravitationalModel(EarthGravitationalModel.Type.EGM84),\n",
    "    EarthGravitationalModel(EarthGravitationalModel.Type.EGM96),\n",
    "#     EarthGravitationalModel(EarthGravitationalModel.Type.EGM2008)\n",
    "]"
   ]
  },
  {
   "cell_type": "markdown",
   "metadata": {},
   "source": [
    "And evaluate them at various altitudes:"
   ]
  },
  {
   "cell_type": "code",
   "execution_count": 107,
   "metadata": {},
   "outputs": [],
   "source": [
    "altitudes = list(range(0, 1000000, 100000))"
   ]
  },
  {
   "cell_type": "code",
   "execution_count": 108,
   "metadata": {},
   "outputs": [],
   "source": [
    "instant = Instant.J2000()"
   ]
  },
  {
   "cell_type": "code",
   "execution_count": 109,
   "metadata": {},
   "outputs": [],
   "source": [
    "positions = [np.array([float(Earth.Models.WGS84.EquatorialRadius.inMeters() + altitude), 0.0, 0.0]) for altitude in altitudes]"
   ]
  },
  {
   "cell_type": "code",
   "execution_count": 110,
   "metadata": {},
   "outputs": [],
   "source": [
    "def evaluate_field_values (gravitational_model, positions):\n",
    "    \n",
    "    field_values = [np.transpose(gravitational_model.getFieldValueAt(position, instant))[0] for position in positions]\n",
    "    \n",
    "    return field_values"
   ]
  },
  {
   "cell_type": "code",
   "execution_count": 111,
   "metadata": {},
   "outputs": [],
   "source": [
    "field_valuess = [evaluate_field_values(gravitational_model, positions) for gravitational_model in gravitational_models]"
   ]
  },
  {
   "cell_type": "code",
   "execution_count": 112,
   "metadata": {},
   "outputs": [],
   "source": [
    "field_dfs = [pd.DataFrame([[altitude, *field.tolist()] for [altitude, field] in zip(altitudes, field_values)], columns=['$altitude [m]$', '$g_x$', '$g_y$', '$g_z$']) for field_values in field_valuess]"
   ]
  },
  {
   "cell_type": "code",
   "execution_count": 113,
   "metadata": {},
   "outputs": [
    {
     "data": {
      "text/html": [
       "<div>\n",
       "<style scoped>\n",
       "    .dataframe tbody tr th:only-of-type {\n",
       "        vertical-align: middle;\n",
       "    }\n",
       "\n",
       "    .dataframe tbody tr th {\n",
       "        vertical-align: top;\n",
       "    }\n",
       "\n",
       "    .dataframe thead th {\n",
       "        text-align: right;\n",
       "    }\n",
       "</style>\n",
       "<table border=\"1\" class=\"dataframe\">\n",
       "  <thead>\n",
       "    <tr style=\"text-align: right;\">\n",
       "      <th></th>\n",
       "      <th>$altitude [m]$</th>\n",
       "      <th>$g_x$</th>\n",
       "      <th>$g_y$</th>\n",
       "      <th>$g_z$</th>\n",
       "    </tr>\n",
       "  </thead>\n",
       "  <tbody>\n",
       "    <tr>\n",
       "      <th>0</th>\n",
       "      <td>0</td>\n",
       "      <td>-9.798285</td>\n",
       "      <td>-0.0</td>\n",
       "      <td>-0.0</td>\n",
       "    </tr>\n",
       "    <tr>\n",
       "      <th>1</th>\n",
       "      <td>100000</td>\n",
       "      <td>-9.498117</td>\n",
       "      <td>-0.0</td>\n",
       "      <td>-0.0</td>\n",
       "    </tr>\n",
       "    <tr>\n",
       "      <th>2</th>\n",
       "      <td>200000</td>\n",
       "      <td>-9.211534</td>\n",
       "      <td>-0.0</td>\n",
       "      <td>-0.0</td>\n",
       "    </tr>\n",
       "    <tr>\n",
       "      <th>3</th>\n",
       "      <td>300000</td>\n",
       "      <td>-8.937728</td>\n",
       "      <td>-0.0</td>\n",
       "      <td>-0.0</td>\n",
       "    </tr>\n",
       "    <tr>\n",
       "      <th>4</th>\n",
       "      <td>400000</td>\n",
       "      <td>-8.675951</td>\n",
       "      <td>-0.0</td>\n",
       "      <td>-0.0</td>\n",
       "    </tr>\n",
       "    <tr>\n",
       "      <th>5</th>\n",
       "      <td>500000</td>\n",
       "      <td>-8.425509</td>\n",
       "      <td>-0.0</td>\n",
       "      <td>-0.0</td>\n",
       "    </tr>\n",
       "    <tr>\n",
       "      <th>6</th>\n",
       "      <td>600000</td>\n",
       "      <td>-8.185756</td>\n",
       "      <td>-0.0</td>\n",
       "      <td>-0.0</td>\n",
       "    </tr>\n",
       "    <tr>\n",
       "      <th>7</th>\n",
       "      <td>700000</td>\n",
       "      <td>-7.956093</td>\n",
       "      <td>-0.0</td>\n",
       "      <td>-0.0</td>\n",
       "    </tr>\n",
       "    <tr>\n",
       "      <th>8</th>\n",
       "      <td>800000</td>\n",
       "      <td>-7.735961</td>\n",
       "      <td>-0.0</td>\n",
       "      <td>-0.0</td>\n",
       "    </tr>\n",
       "    <tr>\n",
       "      <th>9</th>\n",
       "      <td>900000</td>\n",
       "      <td>-7.524841</td>\n",
       "      <td>-0.0</td>\n",
       "      <td>-0.0</td>\n",
       "    </tr>\n",
       "  </tbody>\n",
       "</table>\n",
       "</div>"
      ],
      "text/plain": [
       "   $altitude [m]$     $g_x$  $g_y$  $g_z$\n",
       "0               0 -9.798285   -0.0   -0.0\n",
       "1          100000 -9.498117   -0.0   -0.0\n",
       "2          200000 -9.211534   -0.0   -0.0\n",
       "3          300000 -8.937728   -0.0   -0.0\n",
       "4          400000 -8.675951   -0.0   -0.0\n",
       "5          500000 -8.425509   -0.0   -0.0\n",
       "6          600000 -8.185756   -0.0   -0.0\n",
       "7          700000 -7.956093   -0.0   -0.0\n",
       "8          800000 -7.735961   -0.0   -0.0\n",
       "9          900000 -7.524841   -0.0   -0.0"
      ]
     },
     "execution_count": 113,
     "metadata": {},
     "output_type": "execute_result"
    }
   ],
   "source": [
    "field_dfs[0]"
   ]
  },
  {
   "cell_type": "code",
   "execution_count": 114,
   "metadata": {},
   "outputs": [
    {
     "data": {
      "application/vnd.plotly.v1+json": {
       "config": {
        "linkText": "Export to plot.ly",
        "plotlyServerURL": "https://plot.ly",
        "showLink": false
       },
       "data": [
        {
         "type": "scatter",
         "uid": "02d2fa3e-7dee-471c-93bb-3264f4f90c76",
         "x": [
          0,
          100000,
          200000,
          300000,
          400000,
          500000,
          600000,
          700000,
          800000,
          900000
         ],
         "y": [
          -9.7982854791873,
          -9.498117091820768,
          -9.211533747348525,
          -8.937727866850375,
          -8.675951000931727,
          -8.425508709558251,
          -8.185755951784733,
          -7.956092928161041,
          -7.735961325721104,
          -7.524840921612154
         ]
        },
        {
         "type": "scatter",
         "uid": "28797de2-379b-4225-a45e-b0a590679a74",
         "x": [
          0,
          100000,
          200000,
          300000,
          400000,
          500000,
          600000,
          700000,
          800000,
          900000
         ],
         "y": [
          -9.814241041880868,
          -9.513108776825897,
          -9.225633270500504,
          -8.951000633607185,
          -8.688456744928928,
          -8.437302058356305,
          -8.196886929018294,
          -7.9666074000230305,
          -7.74590139862987,
          -7.534245296986336
         ]
        },
        {
         "type": "scatter",
         "uid": "46eb1a5b-12d2-45a3-81a5-e51a83fcf389",
         "x": [
          0,
          100000,
          200000,
          300000,
          400000,
          500000,
          600000,
          700000,
          800000,
          900000
         ],
         "y": [
          -9.814307141616844,
          -9.513178979811148,
          -9.225699538056165,
          -8.95106240934248,
          -8.688514829376778,
          -8.437357149910085,
          -8.196939440406812,
          -7.966657554394403,
          -7.745949325710143,
          -7.534291088893372
         ]
        },
        {
         "type": "scatter",
         "uid": "a1818954-69de-4540-a4a9-31cd5ac20e5e",
         "x": [
          0,
          100000,
          200000,
          300000,
          400000,
          500000,
          600000,
          700000,
          800000,
          900000
         ],
         "y": [
          -9.814284387550872,
          -9.513160999207878,
          -9.22568814318402,
          -8.951055205359841,
          -8.688510334843228,
          -8.437354343587772,
          -8.196937668392207,
          -7.9666564151497585,
          -7.745948576059298,
          -7.534290581611349
         ]
        }
       ],
       "layout": {
        "autosize": true,
        "xaxis": {
         "autorange": true,
         "range": [
          -52226.179875333924,
          952226.1798753339
         ],
         "type": "linear"
        },
        "yaxis": {
         "autorange": true,
         "range": [
          -9.98200689658534,
          -7.3571411666436575
         ],
         "type": "linear"
        }
       }
      },
      "image/png": "[encoded data removed]",
      "text/html": [
       "<div id=\"3f3680a3-7bb9-4533-82e3-856695f5b9ad\" style=\"height: 525px; width: 100%;\" class=\"plotly-graph-div\"></div><script type=\"text/javascript\">require([\"plotly\"], function(Plotly) { window.PLOTLYENV=window.PLOTLYENV || {};window.PLOTLYENV.BASE_URL=\"https://plot.ly\";Plotly.newPlot(\"3f3680a3-7bb9-4533-82e3-856695f5b9ad\", [{\"x\": [0, 100000, 200000, 300000, 400000, 500000, 600000, 700000, 800000, 900000], \"y\": [-9.7982854791873, -9.498117091820768, -9.211533747348525, -8.937727866850375, -8.675951000931727, -8.425508709558251, -8.185755951784733, -7.956092928161041, -7.735961325721104, -7.524840921612154], \"type\": \"scatter\", \"uid\": \"8c4ab479-a654-4626-9063-b6c898335ca6\"}, {\"x\": [0, 100000, 200000, 300000, 400000, 500000, 600000, 700000, 800000, 900000], \"y\": [-9.814241041880868, -9.513108776825897, -9.225633270500504, -8.951000633607185, -8.688456744928928, -8.437302058356305, -8.196886929018294, -7.9666074000230305, -7.74590139862987, -7.534245296986336], \"type\": \"scatter\", \"uid\": \"d6b6f7c9-948a-4d2f-b8f8-7bb9034cd675\"}, {\"x\": [0, 100000, 200000, 300000, 400000, 500000, 600000, 700000, 800000, 900000], \"y\": [-9.814307141616844, -9.513178979811148, -9.225699538056165, -8.95106240934248, -8.688514829376778, -8.437357149910085, -8.196939440406812, -7.966657554394403, -7.745949325710143, -7.534291088893372], \"type\": \"scatter\", \"uid\": \"74d928a5-1d2f-4e08-b3c7-f7d7bdf8d1ce\"}, {\"x\": [0, 100000, 200000, 300000, 400000, 500000, 600000, 700000, 800000, 900000], \"y\": [-9.814284387550872, -9.513160999207878, -9.22568814318402, -8.951055205359841, -8.688510334843228, -8.437354343587772, -8.196937668392207, -7.9666564151497585, -7.745948576059298, -7.534290581611349], \"type\": \"scatter\", \"uid\": \"532c7b1f-4ec2-449a-b642-f0d355f31093\"}], {}, {\"showLink\": false, \"linkText\": \"Export to plot.ly\", \"plotlyServerURL\": \"https://plot.ly\"})});</script><script type=\"text/javascript\">window.addEventListener(\"resize\", function(){window._Plotly.Plots.resize(document.getElementById(\"3f3680a3-7bb9-4533-82e3-856695f5b9ad\"));});</script>"
      ],
      "text/vnd.plotly.v1+html": [
       "<div id=\"3f3680a3-7bb9-4533-82e3-856695f5b9ad\" style=\"height: 525px; width: 100%;\" class=\"plotly-graph-div\"></div><script type=\"text/javascript\">require([\"plotly\"], function(Plotly) { window.PLOTLYENV=window.PLOTLYENV || {};window.PLOTLYENV.BASE_URL=\"https://plot.ly\";Plotly.newPlot(\"3f3680a3-7bb9-4533-82e3-856695f5b9ad\", [{\"x\": [0, 100000, 200000, 300000, 400000, 500000, 600000, 700000, 800000, 900000], \"y\": [-9.7982854791873, -9.498117091820768, -9.211533747348525, -8.937727866850375, -8.675951000931727, -8.425508709558251, -8.185755951784733, -7.956092928161041, -7.735961325721104, -7.524840921612154], \"type\": \"scatter\", \"uid\": \"8c4ab479-a654-4626-9063-b6c898335ca6\"}, {\"x\": [0, 100000, 200000, 300000, 400000, 500000, 600000, 700000, 800000, 900000], \"y\": [-9.814241041880868, -9.513108776825897, -9.225633270500504, -8.951000633607185, -8.688456744928928, -8.437302058356305, -8.196886929018294, -7.9666074000230305, -7.74590139862987, -7.534245296986336], \"type\": \"scatter\", \"uid\": \"d6b6f7c9-948a-4d2f-b8f8-7bb9034cd675\"}, {\"x\": [0, 100000, 200000, 300000, 400000, 500000, 600000, 700000, 800000, 900000], \"y\": [-9.814307141616844, -9.513178979811148, -9.225699538056165, -8.95106240934248, -8.688514829376778, -8.437357149910085, -8.196939440406812, -7.966657554394403, -7.745949325710143, -7.534291088893372], \"type\": \"scatter\", \"uid\": \"74d928a5-1d2f-4e08-b3c7-f7d7bdf8d1ce\"}, {\"x\": [0, 100000, 200000, 300000, 400000, 500000, 600000, 700000, 800000, 900000], \"y\": [-9.814284387550872, -9.513160999207878, -9.22568814318402, -8.951055205359841, -8.688510334843228, -8.437354343587772, -8.196937668392207, -7.9666564151497585, -7.745948576059298, -7.534290581611349], \"type\": \"scatter\", \"uid\": \"532c7b1f-4ec2-449a-b642-f0d355f31093\"}], {}, {\"showLink\": false, \"linkText\": \"Export to plot.ly\", \"plotlyServerURL\": \"https://plot.ly\"})});</script><script type=\"text/javascript\">window.addEventListener(\"resize\", function(){window._Plotly.Plots.resize(document.getElementById(\"3f3680a3-7bb9-4533-82e3-856695f5b9ad\"));});</script>"
      ]
     },
     "metadata": {},
     "output_type": "display_data"
    }
   ],
   "source": [
    "plot_data = [\n",
    "    go.Scatter(\n",
    "        x = field_df['$altitude [m]$'],\n",
    "        y = field_df['$g_x$']\n",
    "    )\n",
    "    for field_df in field_dfs\n",
    "]\n",
    "\n",
    "iplot(plot_data)"
   ]
  },
  {
   "cell_type": "code",
   "execution_count": null,
   "metadata": {},
   "outputs": [],
   "source": []
  }
 ],
 "metadata": {
  "kernelspec": {
   "display_name": "Python 3",
   "language": "python",
   "name": "python3"
  },
  "language_info": {
   "codemirror_mode": {
    "name": "ipython",
    "version": 3
   },
   "file_extension": ".py",
   "mimetype": "text/x-python",
   "name": "python",
   "nbconvert_exporter": "python",
   "pygments_lexer": "ipython3",
   "version": "3.6.7"
  }
 },
 "nbformat": 4,
 "nbformat_minor": 2
}
