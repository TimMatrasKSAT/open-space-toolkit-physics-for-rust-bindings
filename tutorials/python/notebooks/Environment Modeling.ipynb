{
 "cells": [
  {
   "cell_type": "markdown",
   "metadata": {},
   "source": [
    "# Environment Modeling"
   ]
  },
  {
   "cell_type": "markdown",
   "metadata": {},
   "source": [
    "In this tutorial, we'll use the `Environment` object to obtain various properties."
   ]
  },
  {
   "cell_type": "markdown",
   "metadata": {},
   "source": [
    "## Setup"
   ]
  },
  {
   "cell_type": "markdown",
   "metadata": {},
   "source": [
    "Let's install the necessary libraries:"
   ]
  },
  {
   "cell_type": "code",
   "execution_count": 1,
   "metadata": {},
   "outputs": [],
   "source": [
    "import sys\n",
    "\n",
    "! {sys.executable} -m pip install --quiet LibraryCorePy\n",
    "! {sys.executable} -m pip install --quiet LibraryIOPy\n",
    "! {sys.executable} -m pip install --quiet LibraryMathematicsPy\n",
    "! {sys.executable} -m pip install --quiet LibraryPhysicsPy"
   ]
  },
  {
   "cell_type": "code",
   "execution_count": 2,
   "metadata": {},
   "outputs": [
    {
     "name": "stderr",
     "output_type": "stream",
     "text": [
      "/opt/conda/lib/python3.6/importlib/_bootstrap.py:219: RuntimeWarning: to-Python converter for library::physics::time::DateTime already registered; second conversion method ignored.\n",
      "  return f(*args, **kwds)\n",
      "/opt/conda/lib/python3.6/importlib/_bootstrap.py:219: RuntimeWarning: to-Python converter for library::math::obj::IntervalBase::Type already registered; second conversion method ignored.\n",
      "  return f(*args, **kwds)\n"
     ]
    }
   ],
   "source": [
    "import Library.Core as Core\n",
    "import Library.IO as IO\n",
    "import Library.Mathematics as Mathematics\n",
    "import Library.Physics as Physics"
   ]
  },
  {
   "cell_type": "code",
   "execution_count": 3,
   "metadata": {},
   "outputs": [],
   "source": [
    "Environment = Physics.Environment"
   ]
  },
  {
   "cell_type": "code",
   "execution_count": 4,
   "metadata": {},
   "outputs": [],
   "source": [
    "environment = Environment.Default()"
   ]
  },
  {
   "cell_type": "code",
   "execution_count": 5,
   "metadata": {},
   "outputs": [
    {
     "name": "stdout",
     "output_type": "stream",
     "text": [
      "total 60\n",
      "drwsrwsr-x 1 jovyan users 4096 Jan  8 22:24 .\n",
      "drwxr-xr-x 1 root   root  4096 Jul 20 19:33 ..\n",
      "-rw-rw-r-- 1 jovyan users  220 Apr  4  2018 .bash_logout\n",
      "-rw-rw-r-- 1 jovyan users 3771 Apr  4  2018 .bashrc\n",
      "drwsrwsr-x 1 jovyan users 4096 Jan  8 22:25 .cache\n",
      "drwsrwsr-x 1 jovyan users 4096 Jul 20 19:35 .conda\n",
      "drwsrws--- 1 jovyan users 4096 Aug  6 14:31 .config\n",
      "drwxr-xr-x 5 jovyan users  160 Sep 20 20:10 docs\n",
      "drwxr-sr-x 5 jovyan users 4096 Jan  8 22:24 .ipython\n",
      "drwsrws--- 1 jovyan  1000 4096 Sep 19 02:54 .jupyter\n",
      "drwx--S--- 3 jovyan users 4096 Jan  8 22:24 .local\n",
      "drwxr-sr-x 3 root   users 4096 Sep 19 02:22 .npm\n",
      "-rw-rw-r-- 1 jovyan users  807 Apr  4  2018 .profile\n",
      "drwxr-xr-x 5 jovyan users  160 Jan  8 21:50 tutorials\n",
      "-rw-r--r-- 1 root   users  170 Aug 20 05:56 .wget-hsts\n",
      "drwsrwsr-x 2 jovyan users 4096 Jul 20 19:33 work\n",
      "drwsrwsr-x 3 jovyan users 4096 Aug  6 13:31 .yarn\n"
     ]
    }
   ],
   "source": [
    "! ls -la ~"
   ]
  },
  {
   "cell_type": "code",
   "execution_count": null,
   "metadata": {},
   "outputs": [],
   "source": []
  }
 ],
 "metadata": {
  "kernelspec": {
   "display_name": "Python 3",
   "language": "python",
   "name": "python3"
  },
  "language_info": {
   "codemirror_mode": {
    "name": "ipython",
    "version": 3
   },
   "file_extension": ".py",
   "mimetype": "text/x-python",
   "name": "python",
   "nbconvert_exporter": "python",
   "pygments_lexer": "ipython3",
   "version": "3.6.5"
  }
 },
 "nbformat": 4,
 "nbformat_minor": 2
}
