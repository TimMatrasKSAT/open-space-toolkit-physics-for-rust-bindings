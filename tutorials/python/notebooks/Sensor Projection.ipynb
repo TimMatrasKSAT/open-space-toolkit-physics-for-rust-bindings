{
 "cells": [
  {
   "cell_type": "markdown",
   "metadata": {},
   "source": [
    "# Sensor Projection"
   ]
  },
  {
   "cell_type": "markdown",
   "metadata": {},
   "source": [
    "In this tutorial, we will demonstrate how to define a **sensor geometry** and project its trace onto the **Earth**."
   ]
  },
  {
   "cell_type": "markdown",
   "metadata": {},
   "source": [
    "## Setup"
   ]
  },
  {
   "cell_type": "markdown",
   "metadata": {},
   "source": [
    "Let's import the necessary dependencies:"
   ]
  },
  {
   "cell_type": "code",
   "execution_count": 16,
   "metadata": {},
   "outputs": [
    {
     "data": {
      "text/html": [
       "<script type=\"text/javascript\">window.PlotlyConfig = {MathJaxConfig: 'local'};</script><script type=\"text/javascript\">if (window.MathJax) {MathJax.Hub.Config({SVG: {font: \"STIX-Web\"}});}</script><script>requirejs.config({paths: { 'plotly': ['https://cdn.plot.ly/plotly-latest.min']},});if(!window._Plotly) {require(['plotly'],function(plotly) {window._Plotly=plotly;});}</script>"
      ],
      "text/vnd.plotly.v1+html": [
       "<script type=\"text/javascript\">window.PlotlyConfig = {MathJaxConfig: 'local'};</script><script type=\"text/javascript\">if (window.MathJax) {MathJax.Hub.Config({SVG: {font: \"STIX-Web\"}});}</script><script>requirejs.config({paths: { 'plotly': ['https://cdn.plot.ly/plotly-latest.min']},});if(!window._Plotly) {require(['plotly'],function(plotly) {window._Plotly=plotly;});}</script>"
      ]
     },
     "metadata": {},
     "output_type": "display_data"
    }
   ],
   "source": [
    "import numpy as np\n",
    "import pandas as pd\n",
    "\n",
    "from plotly.offline import download_plotlyjs, init_notebook_mode, plot, iplot\n",
    "import plotly.graph_objs as go\n",
    "\n",
    "init_notebook_mode(connected = True)\n",
    "\n",
    "import Library.Mathematics as Mathematics\n",
    "import Library.Physics as Physics"
   ]
  },
  {
   "cell_type": "markdown",
   "metadata": {},
   "source": [
    "Then, we define some useful shortcuts:"
   ]
  },
  {
   "cell_type": "code",
   "execution_count": 3,
   "metadata": {},
   "outputs": [],
   "source": [
    "Object2 = Mathematics.Geometry.D2.Object\n",
    "Point2 = Mathematics.Geometry.D2.Objects.Point\n",
    "Polygon2 = Mathematics.Geometry.D2.Objects.Polygon\n",
    "Point3 = Mathematics.Geometry.D3.Objects.Point\n",
    "Polygon3 = Mathematics.Geometry.D3.Objects.Polygon\n",
    "Ellipsoid = Mathematics.Geometry.D3.Objects.Ellipsoid\n",
    "Pyramid = Mathematics.Geometry.D3.Objects.Pyramid\n",
    "\n",
    "Length = Physics.Units.Length\n",
    "Angle = Physics.Units.Angle\n",
    "Scale = Physics.Time.Scale\n",
    "Instant = Physics.Time.Instant\n",
    "Duration = Physics.Time.Duration\n",
    "Interval = Physics.Time.Interval\n",
    "DateTime = Physics.Time.DateTime\n",
    "LLA = Physics.Coordinate.Spherical.LLA\n",
    "Position = Physics.Coordinate.Position\n",
    "Frame = Physics.Coordinate.Frame\n",
    "Environment = Physics.Environment\n",
    "Geometry = Physics.Environment.Object.Geometry\n",
    "Earth = Physics.Environment.Objects.CelestialBodies.Earth"
   ]
  },
  {
   "cell_type": "markdown",
   "metadata": {},
   "source": [
    "---"
   ]
  },
  {
   "cell_type": "markdown",
   "metadata": {},
   "source": [
    "## Scene"
   ]
  },
  {
   "cell_type": "markdown",
   "metadata": {},
   "source": [
    "We first set up a simple scene, with the Earth only (the default `Environment` will suffice here):"
   ]
  },
  {
   "cell_type": "code",
   "execution_count": 4,
   "metadata": {},
   "outputs": [],
   "source": [
    "environment = Environment.Default() ;"
   ]
  },
  {
   "cell_type": "markdown",
   "metadata": {},
   "source": [
    "Then, we access the `Earth` object (managed by the `Environment`):"
   ]
  },
  {
   "cell_type": "code",
   "execution_count": 5,
   "metadata": {},
   "outputs": [],
   "source": [
    "earth = environment.accessObjectWithName(\"Earth\")"
   ]
  },
  {
   "cell_type": "markdown",
   "metadata": {},
   "source": [
    "Once the `Earth` has been obtained, we can also get its geometry (an `Ellipsoid`, defined in `ITRF` in this case):"
   ]
  },
  {
   "cell_type": "code",
   "execution_count": 6,
   "metadata": {},
   "outputs": [],
   "source": [
    "earth_geometry = earth.getGeometryIn(Frame.ITRF())"
   ]
  },
  {
   "cell_type": "markdown",
   "metadata": {},
   "source": [
    "## Sensor"
   ]
  },
  {
   "cell_type": "markdown",
   "metadata": {},
   "source": [
    "Let's define a pyramidal geometry:"
   ]
  },
  {
   "cell_type": "code",
   "execution_count": 7,
   "metadata": {},
   "outputs": [],
   "source": [
    "apex = Point3(7000e3, 0.0, 0.0)\n",
    "base = Polygon3(Polygon2([Point2(-1.0, -1.0), Point2(+1.0, -1.0), Point2(+1.0, +1.0), Point2(-1.0, +1.0)]), apex - np.array((0.8, 0.0, 0.0)), np.array((0.0, 1.0, 0.0)), np.array((0.0, 0.0, 1.0)))\n",
    "\n",
    "pyramid = Pyramid(base, apex)"
   ]
  },
  {
   "cell_type": "markdown",
   "metadata": {},
   "source": [
    "That we express in `ITRF`:"
   ]
  },
  {
   "cell_type": "code",
   "execution_count": 8,
   "metadata": {},
   "outputs": [],
   "source": [
    "sensor_geometry = Geometry(pyramid, Frame.ITRF())"
   ]
  },
  {
   "cell_type": "markdown",
   "metadata": {},
   "source": [
    "## Intersection"
   ]
  },
  {
   "cell_type": "markdown",
   "metadata": {},
   "source": [
    "Now that we have both Earth and sensor geometries clearly defined, we can compute their intersection:"
   ]
  },
  {
   "cell_type": "code",
   "execution_count": 9,
   "metadata": {},
   "outputs": [],
   "source": [
    "intersection_ITRF = sensor_geometry.intersectionWith(earth_geometry)"
   ]
  },
  {
   "cell_type": "markdown",
   "metadata": {},
   "source": [
    "And convert this 3D intersection into a 2D set of geodetic points:"
   ]
  },
  {
   "cell_type": "code",
   "execution_count": 10,
   "metadata": {},
   "outputs": [],
   "source": [
    "intersection_points = [Point2(lla.getLongitude().inDegrees(), lla.getLatitude().inDegrees()) for lla in [LLA.Cartesian(point_ITRF.asVector(), Earth.EquatorialRadius, Earth.Flattening) for point_ITRF in intersection_ITRF.accessComposite().accessObjectAt(0).asLineString()]]"
   ]
  },
  {
   "cell_type": "markdown",
   "metadata": {},
   "source": [
    "We further convert this set into a Pandas Dataframe, as a very convenient way for storing / managing data in Python:"
   ]
  },
  {
   "cell_type": "code",
   "execution_count": 11,
   "metadata": {},
   "outputs": [],
   "source": [
    "intersection_df = pd.DataFrame([[float(intersection_point.x()), float(intersection_point.y())] for intersection_point in intersection_points], columns=['Longitude', 'Latitude']) ;"
   ]
  },
  {
   "cell_type": "code",
   "execution_count": 12,
   "metadata": {},
   "outputs": [
    {
     "data": {
      "text/html": [
       "<div>\n",
       "<style scoped>\n",
       "    .dataframe tbody tr th:only-of-type {\n",
       "        vertical-align: middle;\n",
       "    }\n",
       "\n",
       "    .dataframe tbody tr th {\n",
       "        vertical-align: top;\n",
       "    }\n",
       "\n",
       "    .dataframe thead th {\n",
       "        text-align: right;\n",
       "    }\n",
       "</style>\n",
       "<table border=\"1\" class=\"dataframe\">\n",
       "  <thead>\n",
       "    <tr style=\"text-align: right;\">\n",
       "      <th></th>\n",
       "      <th>Longitude</th>\n",
       "      <th>Latitude</th>\n",
       "    </tr>\n",
       "  </thead>\n",
       "  <tbody>\n",
       "    <tr>\n",
       "      <th>0</th>\n",
       "      <td>-8.768110</td>\n",
       "      <td>-8.724722</td>\n",
       "    </tr>\n",
       "    <tr>\n",
       "      <th>1</th>\n",
       "      <td>-8.152081</td>\n",
       "      <td>-5.915811</td>\n",
       "    </tr>\n",
       "    <tr>\n",
       "      <th>2</th>\n",
       "      <td>-7.861134</td>\n",
       "      <td>-3.893096</td>\n",
       "    </tr>\n",
       "    <tr>\n",
       "      <th>3</th>\n",
       "      <td>-7.713082</td>\n",
       "      <td>-2.226165</td>\n",
       "    </tr>\n",
       "    <tr>\n",
       "      <th>4</th>\n",
       "      <td>-7.649110</td>\n",
       "      <td>-0.725557</td>\n",
       "    </tr>\n",
       "  </tbody>\n",
       "</table>\n",
       "</div>"
      ],
      "text/plain": [
       "   Longitude  Latitude\n",
       "0  -8.768110 -8.724722\n",
       "1  -8.152081 -5.915811\n",
       "2  -7.861134 -3.893096\n",
       "3  -7.713082 -2.226165\n",
       "4  -7.649110 -0.725557"
      ]
     },
     "execution_count": 12,
     "metadata": {},
     "output_type": "execute_result"
    }
   ],
   "source": [
    "intersection_df.head()"
   ]
  },
  {
   "cell_type": "markdown",
   "metadata": {},
   "source": [
    "Now, we're ready to visualize the intersection on a map!"
   ]
  },
  {
   "cell_type": "code",
   "execution_count": 13,
   "metadata": {},
   "outputs": [
    {
     "data": {
      "application/vnd.plotly.v1+json": {
       "config": {
        "linkText": "Export to plot.ly",
        "plotlyServerURL": "https://plot.ly",
        "showLink": false
       },
       "data": [
        {
         "lat": [
          -8.724721768915643,
          -5.915811444100522,
          -3.89309633339728,
          -2.226165405818729,
          -0.7255566784900468,
          0.7255566784900459,
          2.226165405818729,
          3.8930963333972755,
          5.915811444100519,
          8.724721768915636,
          8.724721768915643,
          8.166363909544035,
          7.900147793816035,
          7.764059304592438,
          7.705126485487932,
          7.705126485487939,
          7.7640593045924415,
          7.900147793816032,
          8.166363909544033,
          8.724721768915638,
          8.724721768915643,
          5.915811444100522,
          3.89309633339728,
          2.226165405818729,
          0.7255566784900468,
          -0.7255566784900459,
          -2.226165405818729,
          -3.8930963333972755,
          -5.915811444100519,
          -8.724721768915636,
          -8.724721768915643,
          -8.166363909544035,
          -7.900147793816035,
          -7.764059304592438,
          -7.705126485487932,
          -7.705126485487939,
          -7.7640593045924415,
          -7.900147793816032,
          -8.166363909544033,
          -8.724721768915638
         ],
         "line": {
          "color": "red",
          "width": 1
         },
         "lon": [
          -8.76810955266485,
          -8.152081441138826,
          -7.861134019371416,
          -7.713082181549939,
          -7.649110420171302,
          -7.649110420171302,
          -7.71308218154994,
          -7.861134019371413,
          -8.15208144113882,
          -8.768109552664844,
          -8.76810955266485,
          -5.9386334709237225,
          -3.9061098083380124,
          -2.233031692244377,
          -0.727714184699879,
          0.7277141846998785,
          2.233031692244377,
          3.9061098083380084,
          5.938633470923722,
          8.768109552664843,
          8.76810955266485,
          8.152081441138826,
          7.861134019371416,
          7.713082181549939,
          7.649110420171302,
          7.649110420171302,
          7.71308218154994,
          7.861134019371413,
          8.15208144113882,
          8.768109552664844,
          8.76810955266485,
          5.9386334709237225,
          3.9061098083380124,
          2.233031692244377,
          0.727714184699879,
          -0.7277141846998785,
          -2.233031692244377,
          -3.9061098083380084,
          -5.938633470923722,
          -8.768109552664843
         ],
         "mode": "lines",
         "type": "scattergeo",
         "uid": "8c05e8d4-9e89-45f1-a229-3c7645148f48"
        }
       ],
       "layout": {
        "autosize": true,
        "geo": {
         "countrycolor": "rgb(204, 204, 204)",
         "landcolor": "rgb(243, 243, 243)",
         "showland": true
        },
        "showlegend": false
       }
      },
      "image/png": "[encoded data removed]",
      "text/html": [
       "<div id=\"99cbf8a8-732c-411d-882b-2953df74e58d\" style=\"height: 525px; width: 100%;\" class=\"plotly-graph-div\"></div><script type=\"text/javascript\">require([\"plotly\"], function(Plotly) { window.PLOTLYENV=window.PLOTLYENV || {};window.PLOTLYENV.BASE_URL=\"https://plot.ly\";Plotly.newPlot(\"99cbf8a8-732c-411d-882b-2953df74e58d\", [{\"lat\": [-8.724721768915643, -5.915811444100522, -3.89309633339728, -2.226165405818729, -0.7255566784900468, 0.7255566784900459, 2.226165405818729, 3.8930963333972755, 5.915811444100519, 8.724721768915636, 8.724721768915643, 8.166363909544035, 7.900147793816035, 7.764059304592438, 7.705126485487932, 7.705126485487939, 7.7640593045924415, 7.900147793816032, 8.166363909544033, 8.724721768915638, 8.724721768915643, 5.915811444100522, 3.89309633339728, 2.226165405818729, 0.7255566784900468, -0.7255566784900459, -2.226165405818729, -3.8930963333972755, -5.915811444100519, -8.724721768915636, -8.724721768915643, -8.166363909544035, -7.900147793816035, -7.764059304592438, -7.705126485487932, -7.705126485487939, -7.7640593045924415, -7.900147793816032, -8.166363909544033, -8.724721768915638], \"line\": {\"color\": \"red\", \"width\": 1}, \"lon\": [-8.76810955266485, -8.152081441138826, -7.861134019371416, -7.713082181549939, -7.649110420171302, -7.649110420171302, -7.71308218154994, -7.861134019371413, -8.15208144113882, -8.768109552664844, -8.76810955266485, -5.9386334709237225, -3.9061098083380124, -2.233031692244377, -0.727714184699879, 0.7277141846998785, 2.233031692244377, 3.9061098083380084, 5.938633470923722, 8.768109552664843, 8.76810955266485, 8.152081441138826, 7.861134019371416, 7.713082181549939, 7.649110420171302, 7.649110420171302, 7.71308218154994, 7.861134019371413, 8.15208144113882, 8.768109552664844, 8.76810955266485, 5.9386334709237225, 3.9061098083380124, 2.233031692244377, 0.727714184699879, -0.7277141846998785, -2.233031692244377, -3.9061098083380084, -5.938633470923722, -8.768109552664843], \"mode\": \"lines\", \"type\": \"scattergeo\", \"uid\": \"f79021b9-1a84-439d-bc7f-f7410dd6b57a\"}], {\"geo\": {\"countrycolor\": \"rgb(204, 204, 204)\", \"landcolor\": \"rgb(243, 243, 243)\", \"showland\": true}, \"showlegend\": false}, {\"showLink\": false, \"linkText\": \"Export to plot.ly\", \"plotlyServerURL\": \"https://plot.ly\"})});</script><script type=\"text/javascript\">window.addEventListener(\"resize\", function(){window._Plotly.Plots.resize(document.getElementById(\"99cbf8a8-732c-411d-882b-2953df74e58d\"));});</script>"
      ],
      "text/vnd.plotly.v1+html": [
       "<div id=\"99cbf8a8-732c-411d-882b-2953df74e58d\" style=\"height: 525px; width: 100%;\" class=\"plotly-graph-div\"></div><script type=\"text/javascript\">require([\"plotly\"], function(Plotly) { window.PLOTLYENV=window.PLOTLYENV || {};window.PLOTLYENV.BASE_URL=\"https://plot.ly\";Plotly.newPlot(\"99cbf8a8-732c-411d-882b-2953df74e58d\", [{\"lat\": [-8.724721768915643, -5.915811444100522, -3.89309633339728, -2.226165405818729, -0.7255566784900468, 0.7255566784900459, 2.226165405818729, 3.8930963333972755, 5.915811444100519, 8.724721768915636, 8.724721768915643, 8.166363909544035, 7.900147793816035, 7.764059304592438, 7.705126485487932, 7.705126485487939, 7.7640593045924415, 7.900147793816032, 8.166363909544033, 8.724721768915638, 8.724721768915643, 5.915811444100522, 3.89309633339728, 2.226165405818729, 0.7255566784900468, -0.7255566784900459, -2.226165405818729, -3.8930963333972755, -5.915811444100519, -8.724721768915636, -8.724721768915643, -8.166363909544035, -7.900147793816035, -7.764059304592438, -7.705126485487932, -7.705126485487939, -7.7640593045924415, -7.900147793816032, -8.166363909544033, -8.724721768915638], \"line\": {\"color\": \"red\", \"width\": 1}, \"lon\": [-8.76810955266485, -8.152081441138826, -7.861134019371416, -7.713082181549939, -7.649110420171302, -7.649110420171302, -7.71308218154994, -7.861134019371413, -8.15208144113882, -8.768109552664844, -8.76810955266485, -5.9386334709237225, -3.9061098083380124, -2.233031692244377, -0.727714184699879, 0.7277141846998785, 2.233031692244377, 3.9061098083380084, 5.938633470923722, 8.768109552664843, 8.76810955266485, 8.152081441138826, 7.861134019371416, 7.713082181549939, 7.649110420171302, 7.649110420171302, 7.71308218154994, 7.861134019371413, 8.15208144113882, 8.768109552664844, 8.76810955266485, 5.9386334709237225, 3.9061098083380124, 2.233031692244377, 0.727714184699879, -0.7277141846998785, -2.233031692244377, -3.9061098083380084, -5.938633470923722, -8.768109552664843], \"mode\": \"lines\", \"type\": \"scattergeo\", \"uid\": \"f79021b9-1a84-439d-bc7f-f7410dd6b57a\"}], {\"geo\": {\"countrycolor\": \"rgb(204, 204, 204)\", \"landcolor\": \"rgb(243, 243, 243)\", \"showland\": true}, \"showlegend\": false}, {\"showLink\": false, \"linkText\": \"Export to plot.ly\", \"plotlyServerURL\": \"https://plot.ly\"})});</script><script type=\"text/javascript\">window.addEventListener(\"resize\", function(){window._Plotly.Plots.resize(document.getElementById(\"99cbf8a8-732c-411d-882b-2953df74e58d\"));});</script>"
      ]
     },
     "metadata": {},
     "output_type": "display_data"
    }
   ],
   "source": [
    "data = []\n",
    "\n",
    "data.append(\n",
    "    dict(\n",
    "        type = 'scattergeo',\n",
    "        lon = intersection_df['Longitude'],\n",
    "        lat = intersection_df['Latitude'],\n",
    "        mode = 'lines',\n",
    "        line = dict(\n",
    "            width = 1,\n",
    "            color = 'red',\n",
    "        )\n",
    "    )\n",
    ")\n",
    "    \n",
    "layout = dict(\n",
    "        title = None,\n",
    "        showlegend = False, \n",
    "        geo = dict(\n",
    "            showland = True,\n",
    "            landcolor = 'rgb(243, 243, 243)',\n",
    "            countrycolor = 'rgb(204, 204, 204)',\n",
    "        ),\n",
    "    )\n",
    "    \n",
    "fig = dict(data=data, layout=layout)\n",
    "iplot(fig)"
   ]
  },
  {
   "cell_type": "markdown",
   "metadata": {},
   "source": [
    "It is also possible to obtain the `WKT` representation of the intersection polygon:"
   ]
  },
  {
   "cell_type": "code",
   "execution_count": 14,
   "metadata": {},
   "outputs": [
    {
     "data": {
      "text/plain": [
       "POLYGON((-8.76811 -8.72472,-8.15208 -5.91581,-7.86113 -3.8931,-7.71308 -2.22617,-7.64911 -0.725557,-7.64911 0.725557,-7.71308 2.22617,-7.86113 3.8931,-8.15208 5.91581,-8.76811 8.72472,-8.76811 8.72472,-5.93863 8.16636,-3.90611 7.90015,-2.23303 7.76406,-0.727714 7.70513,0.727714 7.70513,2.23303 7.76406,3.90611 7.90015,5.93863 8.16636,8.76811 8.72472,8.76811 8.72472,8.15208 5.91581,7.86113 3.8931,7.71308 2.22617,7.64911 0.725557,7.64911 -0.725557,7.71308 -2.22617,7.86113 -3.8931,8.15208 -5.91581,8.76811 -8.72472,8.76811 -8.72472,5.93863 -8.16636,3.90611 -7.90015,2.23303 -7.76406,0.727714 -7.70513,-0.727714 -7.70513,-2.23303 -7.76406,-3.90611 -7.90015,-5.93863 -8.16636,-8.76811 -8.72472,-8.76811 -8.72472))"
      ]
     },
     "execution_count": 14,
     "metadata": {},
     "output_type": "execute_result"
    }
   ],
   "source": [
    "Polygon2(intersection_points).toString(Object2.Format.WKT)"
   ]
  },
  {
   "cell_type": "code",
   "execution_count": null,
   "metadata": {},
   "outputs": [],
   "source": []
  }
 ],
 "metadata": {
  "kernelspec": {
   "display_name": "Python 3",
   "language": "python",
   "name": "python3"
  },
  "language_info": {
   "codemirror_mode": {
    "name": "ipython",
    "version": 3
   },
   "file_extension": ".py",
   "mimetype": "text/x-python",
   "name": "python",
   "nbconvert_exporter": "python",
   "pygments_lexer": "ipython3",
   "version": "3.6.7"
  }
 },
 "nbformat": 4,
 "nbformat_minor": 2
}
