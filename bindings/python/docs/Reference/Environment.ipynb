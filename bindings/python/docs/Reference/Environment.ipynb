{
 "cells": [
  {
   "cell_type": "markdown",
   "metadata": {},
   "source": [
    "# Open Space Toolkit ▸ Physics ▸ Environment"
   ]
  },
  {
   "cell_type": "markdown",
   "metadata": {},
   "source": [
    "## Setup"
   ]
  },
  {
   "cell_type": "code",
   "execution_count": null,
   "metadata": {},
   "outputs": [],
   "source": [
    "import numpy"
   ]
  },
  {
   "cell_type": "code",
   "execution_count": null,
   "metadata": {},
   "outputs": [],
   "source": [
    "import ostk.core as core\n",
    "import ostk.io as io\n",
    "import ostk.mathematics as mathematics\n",
    "import ostk.physics as physics"
   ]
  },
  {
   "cell_type": "code",
   "execution_count": null,
   "metadata": {},
   "outputs": [],
   "source": [
    "Point = mathematics.geometry.d3.objects.Point\n",
    "Segment = mathematics.geometry.d3.objects.Segment\n",
    "\n",
    "Scale = physics.time.Scale\n",
    "Instant = physics.time.Instant\n",
    "Duration = physics.time.Duration\n",
    "Interval = physics.time.Interval\n",
    "Date = physics.time.Date\n",
    "Time = physics.time.Time\n",
    "DateTime = physics.time.DateTime\n",
    "Frame = physics.coordinate.Frame\n",
    "Environment = physics.Environment\n",
    "Object = physics.environment.Object\n",
    "Geometry = physics.environment.object.Geometry\n",
    "Celestial = physics.environment.objects.Celestial\n",
    "Earth = physics.environment.objects.celestial_bodies.Earth"
   ]
  },
  {
   "cell_type": "markdown",
   "metadata": {},
   "source": [
    "---"
   ]
  },
  {
   "cell_type": "markdown",
   "metadata": {},
   "source": [
    "## Physics ▸ Environment"
   ]
  },
  {
   "cell_type": "markdown",
   "metadata": {},
   "source": [
    "**Physics ▸ Environment ▸ Constructors**"
   ]
  },
  {
   "cell_type": "code",
   "execution_count": null,
   "metadata": {},
   "outputs": [],
   "source": [
    "instant = Instant.date_time(DateTime(2018, 1, 1, 0, 0, 0), Scale.UTC) ;\n",
    "objects = [Earth.default()] ;\n",
    "\n",
    "environment = Environment(instant, objects) ;"
   ]
  },
  {
   "cell_type": "code",
   "execution_count": null,
   "metadata": {},
   "outputs": [],
   "source": [
    "Environment.undefined() ;"
   ]
  },
  {
   "cell_type": "code",
   "execution_count": null,
   "metadata": {},
   "outputs": [],
   "source": [
    "Environment.default() ;"
   ]
  },
  {
   "cell_type": "markdown",
   "metadata": {},
   "source": [
    "**Physics ▸ Environment ▸ Methods**"
   ]
  },
  {
   "cell_type": "code",
   "execution_count": null,
   "metadata": {},
   "outputs": [],
   "source": [
    "environment.is_defined() ;"
   ]
  },
  {
   "cell_type": "code",
   "execution_count": null,
   "metadata": {},
   "outputs": [],
   "source": [
    "environment.access_object_with_name(\"Earth\") ;"
   ]
  },
  {
   "cell_type": "code",
   "execution_count": null,
   "metadata": {},
   "outputs": [],
   "source": [
    "environment.get_instant() ;"
   ]
  },
  {
   "cell_type": "code",
   "execution_count": null,
   "metadata": {},
   "outputs": [],
   "source": [
    "environment.set_instant(Instant.date_time(DateTime(2018, 1, 1, 0, 0, 0), Scale.UTC)) ;"
   ]
  },
  {
   "cell_type": "code",
   "execution_count": null,
   "metadata": {},
   "outputs": [],
   "source": [
    "segment = Segment(Point(0.0, 0.0, 0.0), Point(7000e3, 0.0, 0.0))\n",
    "geometry = Geometry(segment, Frame.GCRF())\n",
    "\n",
    "environment.intersects(geometry, []) ;"
   ]
  },
  {
   "cell_type": "markdown",
   "metadata": {},
   "source": [
    "### Physics ▸ Environment ▸ Object"
   ]
  },
  {
   "cell_type": "markdown",
   "metadata": {},
   "source": [
    "### Physics ▸ Environment ▸ Objects"
   ]
  },
  {
   "cell_type": "markdown",
   "metadata": {},
   "source": [
    "### Physics ▸ Environment ▸ Objects ▸ Celestial"
   ]
  },
  {
   "cell_type": "markdown",
   "metadata": {},
   "source": [
    "### Physics ▸ Environment ▸ Objects ▸ Celestial ▸ Earth"
   ]
  },
  {
   "cell_type": "markdown",
   "metadata": {},
   "source": [
    "**Physics ▸ Environment ▸ Objects ▸ Celestial ▸ Earth ▸ Static Properties**"
   ]
  },
  {
   "cell_type": "code",
   "execution_count": null,
   "metadata": {},
   "outputs": [],
   "source": [
    "Earth.gravitational_parameter ;\n",
    "Earth.equatorial_radius ;\n",
    "Earth.flattening ;\n",
    "Earth.C20 ;\n",
    "Earth.J2 ;"
   ]
  },
  {
   "cell_type": "code",
   "execution_count": null,
   "metadata": {},
   "outputs": [],
   "source": [
    "Earth.Models.EGM2008.gravitational_parameter ;\n",
    "Earth.Models.EGM2008.equatorial_radius ;\n",
    "Earth.Models.EGM2008.flattening ;\n",
    "Earth.Models.EGM2008.C20 ;\n",
    "Earth.Models.EGM2008.J2 ;"
   ]
  },
  {
   "cell_type": "code",
   "execution_count": null,
   "metadata": {},
   "outputs": [],
   "source": [
    "Earth.Models.WGS84_EGM96.gravitational_parameter ;\n",
    "Earth.Models.WGS84_EGM96.equatorial_radius ;\n",
    "Earth.Models.WGS84_EGM96.flattening ;\n",
    "Earth.Models.WGS84_EGM96.C20 ;\n",
    "Earth.Models.WGS84_EGM96.J2 ;"
   ]
  },
  {
   "cell_type": "code",
   "execution_count": null,
   "metadata": {},
   "outputs": [],
   "source": [
    "Earth.Models.EGM96.gravitational_parameter ;\n",
    "Earth.Models.EGM96.equatorial_radius ;\n",
    "Earth.Models.EGM96.flattening ;\n",
    "Earth.Models.EGM96.C20 ;\n",
    "Earth.Models.EGM96.J2 ;"
   ]
  },
  {
   "cell_type": "code",
   "execution_count": null,
   "metadata": {},
   "outputs": [],
   "source": [
    "Earth.Models.WGS84.gravitational_parameter ;\n",
    "Earth.Models.WGS84.equatorial_radius ;\n",
    "Earth.Models.WGS84.flattening ;\n",
    "Earth.Models.WGS84.C20 ;\n",
    "Earth.Models.WGS84.J2 ;"
   ]
  },
  {
   "cell_type": "markdown",
   "metadata": {},
   "source": [
    "---"
   ]
  }
 ],
 "metadata": {
  "kernelspec": {
   "display_name": "Python 3",
   "language": "python",
   "name": "python3"
  },
  "language_info": {
   "codemirror_mode": {
    "name": "ipython",
    "version": 3
   },
   "file_extension": ".py",
   "mimetype": "text/x-python",
   "name": "python",
   "nbconvert_exporter": "python",
   "pygments_lexer": "ipython3",
   "version": "3.7.3"
  }
 },
 "nbformat": 4,
 "nbformat_minor": 4
}
