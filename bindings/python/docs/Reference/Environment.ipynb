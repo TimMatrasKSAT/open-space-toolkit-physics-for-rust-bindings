{
 "cells": [
  {
   "cell_type": "markdown",
   "metadata": {},
   "source": [
    "# Library ▸ Physics ▸ Environment"
   ]
  },
  {
   "cell_type": "markdown",
   "metadata": {},
   "source": [
    "## Setup"
   ]
  },
  {
   "cell_type": "code",
   "execution_count": 1,
   "metadata": {},
   "outputs": [
    {
     "name": "stdout",
     "output_type": "stream",
     "text": [
      "\u001b[31m  Could not find a version that satisfies the requirement LibraryPhysicsPy (from versions: )\u001b[0m\n",
      "\u001b[31mNo matching distribution found for LibraryPhysicsPy\u001b[0m\n"
     ]
    }
   ],
   "source": [
    "import sys\n",
    "\n",
    "! {sys.executable} -m pip install --quiet LibraryCorePy\n",
    "! {sys.executable} -m pip install --quiet LibraryMathematicsPy\n",
    "! {sys.executable} -m pip install --quiet LibraryPhysicsPy"
   ]
  },
  {
   "cell_type": "code",
   "execution_count": 2,
   "metadata": {},
   "outputs": [],
   "source": [
    "import numpy"
   ]
  },
  {
   "cell_type": "code",
   "execution_count": 3,
   "metadata": {},
   "outputs": [
    {
     "name": "stderr",
     "output_type": "stream",
     "text": [
      "/opt/conda/lib/python3.6/importlib/_bootstrap.py:219: RuntimeWarning: to-Python converter for library::physics::time::DateTime already registered; second conversion method ignored.\n",
      "  return f(*args, **kwds)\n",
      "/opt/conda/lib/python3.6/importlib/_bootstrap.py:219: RuntimeWarning: to-Python converter for library::math::obj::IntervalBase::Type already registered; second conversion method ignored.\n",
      "  return f(*args, **kwds)\n"
     ]
    }
   ],
   "source": [
    "import Library.Core as Core\n",
    "import Library.Mathematics as Mathematics\n",
    "import Library.Physics as Physics"
   ]
  },
  {
   "cell_type": "code",
   "execution_count": 18,
   "metadata": {},
   "outputs": [],
   "source": [
    "Scale = Physics.Time.Scale\n",
    "Instant = Physics.Time.Instant\n",
    "Duration = Physics.Time.Duration\n",
    "Interval = Physics.Time.Interval\n",
    "Date = Physics.Time.Date\n",
    "Time = Physics.Time.Time\n",
    "DateTime = Physics.Time.DateTime\n",
    "Environment = Physics.Environment\n",
    "Object = Physics.Environment.Object\n",
    "Objects = Physics.Environment.Objects\n",
    "Celestial = Physics.Environment.Objects.Celestial\n",
    "Earth = Physics.Environment.Objects.CelestialBodies.Earth"
   ]
  },
  {
   "cell_type": "markdown",
   "metadata": {},
   "source": [
    "---"
   ]
  },
  {
   "cell_type": "markdown",
   "metadata": {},
   "source": [
    "## Physics ▸ Environment"
   ]
  },
  {
   "cell_type": "markdown",
   "metadata": {},
   "source": [
    "**Physics ▸ Environment ▸ Constructors**"
   ]
  },
  {
   "cell_type": "code",
   "execution_count": 19,
   "metadata": {},
   "outputs": [],
   "source": [
    "instant = Physics.Time.Instant.DateTime(Physics.Time.DateTime(2018, 1, 1, 0, 0, 0), Physics.Time.Scale.UTC) ;\n",
    "objects = [Physics.Environment.Objects.CelestialBodies.Earth.Default()] ;\n",
    "\n",
    "environment = Environment(instant, objects) ;"
   ]
  },
  {
   "cell_type": "code",
   "execution_count": 20,
   "metadata": {},
   "outputs": [],
   "source": [
    "Environment.Undefined() ;"
   ]
  },
  {
   "cell_type": "code",
   "execution_count": 21,
   "metadata": {},
   "outputs": [],
   "source": [
    "Environment.Default() ;"
   ]
  },
  {
   "cell_type": "markdown",
   "metadata": {},
   "source": [
    "**Physics ▸ Environment ▸ Methods**"
   ]
  },
  {
   "cell_type": "code",
   "execution_count": 22,
   "metadata": {},
   "outputs": [],
   "source": [
    "environment.isDefined() ;"
   ]
  },
  {
   "cell_type": "code",
   "execution_count": 23,
   "metadata": {},
   "outputs": [],
   "source": [
    "environment.accessObjectWithName(\"Earth\") ;"
   ]
  },
  {
   "cell_type": "code",
   "execution_count": 24,
   "metadata": {},
   "outputs": [],
   "source": [
    "environment.getInstant() ;"
   ]
  },
  {
   "cell_type": "code",
   "execution_count": 25,
   "metadata": {},
   "outputs": [],
   "source": [
    "environment.setInstant(Physics.Time.Instant.DateTime(Physics.Time.DateTime(2018, 1, 1, 0, 0, 0), Physics.Time.Scale.UTC)) ;"
   ]
  },
  {
   "cell_type": "code",
   "execution_count": 26,
   "metadata": {},
   "outputs": [
    {
     "ename": "ArgumentError",
     "evalue": "Python argument types in\n    Environment.intersects(Environment, Geometry)\ndid not match C++ signature:\n    intersects(library::physics::Environment {lvalue}, library::physics::env::object::Geometry, library::core::ctnr::Array<std::shared_ptr<library::physics::env::Object const> >)",
     "output_type": "error",
     "traceback": [
      "\u001b[0;31m---------------------------------------------------------------------------\u001b[0m",
      "\u001b[0;31mArgumentError\u001b[0m                             Traceback (most recent call last)",
      "\u001b[0;32m<ipython-input-26-b26a7fa4fd72>\u001b[0m in \u001b[0;36m<module>\u001b[0;34m()\u001b[0m\n\u001b[1;32m      2\u001b[0m \u001b[0mgeometry\u001b[0m \u001b[0;34m=\u001b[0m \u001b[0mPhysics\u001b[0m\u001b[0;34m.\u001b[0m\u001b[0mEnvironment\u001b[0m\u001b[0;34m.\u001b[0m\u001b[0mObject\u001b[0m\u001b[0;34m.\u001b[0m\u001b[0mGeometry\u001b[0m\u001b[0;34m(\u001b[0m\u001b[0msegment\u001b[0m\u001b[0;34m,\u001b[0m \u001b[0mPhysics\u001b[0m\u001b[0;34m.\u001b[0m\u001b[0mCoordinate\u001b[0m\u001b[0;34m.\u001b[0m\u001b[0mFrame\u001b[0m\u001b[0;34m.\u001b[0m\u001b[0mGCRF\u001b[0m\u001b[0;34m(\u001b[0m\u001b[0;34m)\u001b[0m\u001b[0;34m)\u001b[0m\u001b[0;34m\u001b[0m\u001b[0m\n\u001b[1;32m      3\u001b[0m \u001b[0;34m\u001b[0m\u001b[0m\n\u001b[0;32m----> 4\u001b[0;31m \u001b[0menvironment\u001b[0m\u001b[0;34m.\u001b[0m\u001b[0mintersects\u001b[0m\u001b[0;34m(\u001b[0m\u001b[0mgeometry\u001b[0m\u001b[0;34m)\u001b[0m \u001b[0;34m;\u001b[0m\u001b[0;34m\u001b[0m\u001b[0m\n\u001b[0m",
      "\u001b[0;31mArgumentError\u001b[0m: Python argument types in\n    Environment.intersects(Environment, Geometry)\ndid not match C++ signature:\n    intersects(library::physics::Environment {lvalue}, library::physics::env::object::Geometry, library::core::ctnr::Array<std::shared_ptr<library::physics::env::Object const> >)"
     ]
    }
   ],
   "source": [
    "segment = Mathematics.Geometry.D3.Objects.Segment(Mathematics.Geometry.D3.Objects.Point(0.0, 0.0, 0.0), Mathematics.Geometry.D3.Objects.Point(7000e3, 0.0, 0.0))\n",
    "geometry = Physics.Environment.Object.Geometry(segment, Physics.Coordinate.Frame.GCRF())\n",
    "\n",
    "environment.intersects(geometry) ;"
   ]
  },
  {
   "cell_type": "markdown",
   "metadata": {},
   "source": [
    "### Physics ▸ Environment ▸ Object"
   ]
  },
  {
   "cell_type": "markdown",
   "metadata": {},
   "source": [
    "### Physics ▸ Environment ▸ Objects"
   ]
  },
  {
   "cell_type": "markdown",
   "metadata": {},
   "source": [
    "### Physics ▸ Environment ▸ Objects ▸ Celestial"
   ]
  },
  {
   "cell_type": "markdown",
   "metadata": {},
   "source": [
    "### Physics ▸ Environment ▸ Objects ▸ Celestial ▸ Earth"
   ]
  },
  {
   "cell_type": "markdown",
   "metadata": {},
   "source": [
    "**Physics ▸ Environment ▸ Objects ▸ Celestial ▸ Earth ▸ Static Properties**"
   ]
  },
  {
   "cell_type": "code",
   "execution_count": 27,
   "metadata": {},
   "outputs": [],
   "source": [
    "Earth.GravitationalConstant ;\n",
    "Earth.EquatorialRadius ;\n",
    "Earth.Flattening ;\n",
    "Earth.C20 ;\n",
    "Earth.J2 ;"
   ]
  }
 ],
 "metadata": {
  "kernelspec": {
   "display_name": "Python 3",
   "language": "python",
   "name": "python3"
  },
  "language_info": {
   "codemirror_mode": {
    "name": "ipython",
    "version": 3
   },
   "file_extension": ".py",
   "mimetype": "text/x-python",
   "name": "python",
   "nbconvert_exporter": "python",
   "pygments_lexer": "ipython3",
   "version": "3.6.5"
  }
 },
 "nbformat": 4,
 "nbformat_minor": 2
}
