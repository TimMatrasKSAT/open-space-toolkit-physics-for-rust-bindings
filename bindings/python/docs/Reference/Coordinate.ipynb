{
 "cells": [
  {
   "cell_type": "markdown",
   "metadata": {},
   "source": [
    "# Open Space Toolkit ▸ Physics ▸ Coordinate"
   ]
  },
  {
   "cell_type": "markdown",
   "metadata": {},
   "source": [
    "## Setup"
   ]
  },
  {
   "cell_type": "code",
   "execution_count": 26,
   "metadata": {},
   "outputs": [],
   "source": [
    "import numpy"
   ]
  },
  {
   "cell_type": "code",
   "execution_count": 27,
   "metadata": {},
   "outputs": [],
   "source": [
    "import ostk.core as core\n",
    "import ostk.mathematics as mathematics\n",
    "import ostk.physics as physics"
   ]
  },
  {
   "cell_type": "code",
   "execution_count": 28,
   "metadata": {},
   "outputs": [],
   "source": [
    "Quaternion = mathematics.geometry.d3.transformations.rotations.Quaternion\n",
    "\n",
    "Length = physics.units.Length\n",
    "Angle = physics.units.Angle\n",
    "Scale = physics.time.Scale\n",
    "Instant = physics.time.Instant\n",
    "DateTime = physics.time.DateTime\n",
    "Position = physics.coordinate.Position\n",
    "Velocity = physics.coordinate.Velocity\n",
    "LLA = physics.coordinate.spherical.LLA\n",
    "AER = physics.coordinate.spherical.AER\n",
    "Frame = physics.coordinate.Frame\n",
    "StaticFrameProvider = physics.coordinate.frame.providers.Static\n",
    "DynamicFrameProvider = physics.coordinate.frame.providers.Dynamic\n",
    "Transform = physics.coordinate.Transform\n",
    "Earth = physics.environment.objects.celestial_bodies.Earth"
   ]
  },
  {
   "cell_type": "markdown",
   "metadata": {},
   "source": [
    "---"
   ]
  },
  {
   "cell_type": "markdown",
   "metadata": {},
   "source": [
    "## Physics ▸ Coordinate"
   ]
  },
  {
   "cell_type": "markdown",
   "metadata": {},
   "source": [
    "### Physics ▸ Coordinate ▸ Position"
   ]
  },
  {
   "cell_type": "markdown",
   "metadata": {},
   "source": [
    "**Physics ▸ Coordinate ▸ Position ▸ Constructors**"
   ]
  },
  {
   "cell_type": "code",
   "execution_count": 29,
   "metadata": {},
   "outputs": [],
   "source": [
    "position = Position(numpy.array((1.0, 2.0, 3.0)), Length.Unit.Meter, Frame.GCRF()) ;"
   ]
  },
  {
   "cell_type": "code",
   "execution_count": 30,
   "metadata": {},
   "outputs": [],
   "source": [
    "Position.undefined() ;\n",
    "Position.meters(numpy.array((0.0, 0.0, 0.0)), Frame.GCRF()) ;"
   ]
  },
  {
   "cell_type": "markdown",
   "metadata": {},
   "source": [
    "**Physics ▸ Coordinate ▸ Position ▸ Operators**"
   ]
  },
  {
   "cell_type": "code",
   "execution_count": 31,
   "metadata": {},
   "outputs": [],
   "source": [
    "position == position ;\n",
    "position != position ;"
   ]
  },
  {
   "cell_type": "markdown",
   "metadata": {},
   "source": [
    "**Physics ▸ Coordinate ▸ Position ▸ Methods**"
   ]
  },
  {
   "cell_type": "code",
   "execution_count": 32,
   "metadata": {},
   "outputs": [],
   "source": [
    "position.is_defined() ;"
   ]
  },
  {
   "cell_type": "code",
   "execution_count": 33,
   "metadata": {},
   "outputs": [],
   "source": [
    "position.is_near(position, Length.meters(0.0)) ;"
   ]
  },
  {
   "cell_type": "code",
   "execution_count": 34,
   "metadata": {},
   "outputs": [],
   "source": [
    "position.access_frame() ;"
   ]
  },
  {
   "cell_type": "code",
   "execution_count": 35,
   "metadata": {},
   "outputs": [],
   "source": [
    "position.get_coordinates() ;"
   ]
  },
  {
   "cell_type": "code",
   "execution_count": 36,
   "metadata": {},
   "outputs": [],
   "source": [
    "position.get_unit() ;"
   ]
  },
  {
   "cell_type": "code",
   "execution_count": 37,
   "metadata": {},
   "outputs": [],
   "source": [
    "position.in_unit(Length.Unit.Foot) ;"
   ]
  },
  {
   "cell_type": "code",
   "execution_count": 38,
   "metadata": {},
   "outputs": [],
   "source": [
    "position.in_frame(Frame.ITRF(), Instant.J2000()) ;"
   ]
  },
  {
   "cell_type": "code",
   "execution_count": 39,
   "metadata": {},
   "outputs": [],
   "source": [
    "position.to_string() ;"
   ]
  },
  {
   "cell_type": "markdown",
   "metadata": {},
   "source": [
    "### Physics ▸ Coordinate ▸ Velocity"
   ]
  },
  {
   "cell_type": "markdown",
   "metadata": {},
   "source": [
    "**Physics ▸ Coordinate ▸ Velocity ▸ Constructors**"
   ]
  },
  {
   "cell_type": "code",
   "execution_count": 40,
   "metadata": {},
   "outputs": [],
   "source": [
    "velocity = Velocity(numpy.array((1.0, 2.0, 3.0)), Velocity.Unit.MeterPerSecond, Frame.GCRF()) ;"
   ]
  },
  {
   "cell_type": "code",
   "execution_count": 41,
   "metadata": {},
   "outputs": [],
   "source": [
    "Velocity.undefined() ;\n",
    "Velocity.meters_per_second(numpy.array((0.0, 0.0, 0.0)), Frame.GCRF()) ;"
   ]
  },
  {
   "cell_type": "markdown",
   "metadata": {},
   "source": [
    "**Physics ▸ Coordinate ▸ Velocity ▸ Operators**"
   ]
  },
  {
   "cell_type": "code",
   "execution_count": 42,
   "metadata": {},
   "outputs": [],
   "source": [
    "velocity == velocity ;\n",
    "velocity != velocity ;"
   ]
  },
  {
   "cell_type": "markdown",
   "metadata": {},
   "source": [
    "**Physics ▸ Coordinate ▸ Velocity ▸ Methods**"
   ]
  },
  {
   "cell_type": "code",
   "execution_count": 43,
   "metadata": {},
   "outputs": [],
   "source": [
    "velocity.is_defined() ;"
   ]
  },
  {
   "cell_type": "code",
   "execution_count": 44,
   "metadata": {},
   "outputs": [],
   "source": [
    "velocity.access_frame() ;"
   ]
  },
  {
   "cell_type": "code",
   "execution_count": 45,
   "metadata": {},
   "outputs": [],
   "source": [
    "velocity.get_coordinates() ;"
   ]
  },
  {
   "cell_type": "code",
   "execution_count": 46,
   "metadata": {},
   "outputs": [],
   "source": [
    "velocity.get_unit() ;"
   ]
  },
  {
   "cell_type": "code",
   "execution_count": 47,
   "metadata": {},
   "outputs": [],
   "source": [
    "velocity.in_unit(Velocity.Unit.MeterPerSecond) ;"
   ]
  },
  {
   "cell_type": "code",
   "execution_count": 48,
   "metadata": {},
   "outputs": [],
   "source": [
    "velocity.in_frame(Position.meters(numpy.array((1.0, 2.0, 3.0)), Frame.GCRF()), Frame.ITRF(), Instant.J2000()) ;"
   ]
  },
  {
   "cell_type": "code",
   "execution_count": 49,
   "metadata": {},
   "outputs": [],
   "source": [
    "velocity.to_string() ;"
   ]
  },
  {
   "cell_type": "markdown",
   "metadata": {},
   "source": [
    "### Physics ▸ Coordinate ▸ Spherical"
   ]
  },
  {
   "cell_type": "markdown",
   "metadata": {},
   "source": [
    "#### Physics ▸ Coordinate ▸ Spherical ▸ LLA"
   ]
  },
  {
   "cell_type": "markdown",
   "metadata": {},
   "source": [
    "**Physics ▸ Coordinate ▸ Spherical ▸ LLA ▸ Constructors**"
   ]
  },
  {
   "cell_type": "code",
   "execution_count": 50,
   "metadata": {},
   "outputs": [],
   "source": [
    "latitude = Angle.degrees(0.0) ;\n",
    "longitude = Angle.degrees(0.0) ;\n",
    "altitude = Length.meters(0.0) ;\n",
    "\n",
    "lla = LLA(latitude, longitude, altitude) ;"
   ]
  },
  {
   "cell_type": "code",
   "execution_count": 51,
   "metadata": {},
   "outputs": [],
   "source": [
    "LLA.undefined() ;"
   ]
  },
  {
   "cell_type": "code",
   "execution_count": 52,
   "metadata": {},
   "outputs": [],
   "source": [
    "LLA.vector(numpy.array((0.0, 0.0, 0.0))) ;"
   ]
  },
  {
   "cell_type": "code",
   "execution_count": 54,
   "metadata": {},
   "outputs": [],
   "source": [
    "x_ECEF = numpy.array((7000e3, 0.0, 0.0)) ;\n",
    "\n",
    "LLA.cartesian(x_ECEF, Earth.equatorial_radius, Earth.flattening) ;"
   ]
  },
  {
   "cell_type": "markdown",
   "metadata": {},
   "source": [
    "**Physics ▸ Coordinate ▸ Spherical ▸ LLA ▸ Operators**"
   ]
  },
  {
   "cell_type": "code",
   "execution_count": 55,
   "metadata": {},
   "outputs": [],
   "source": [
    "lla == lla ;\n",
    "lla != lla ;"
   ]
  },
  {
   "cell_type": "markdown",
   "metadata": {},
   "source": [
    "**Physics ▸ Coordinate ▸ Spherical ▸ LLA ▸ Methods**"
   ]
  },
  {
   "cell_type": "code",
   "execution_count": 56,
   "metadata": {},
   "outputs": [],
   "source": [
    "lla.is_defined() ;"
   ]
  },
  {
   "cell_type": "code",
   "execution_count": 57,
   "metadata": {},
   "outputs": [],
   "source": [
    "lla.get_latitude() ;\n",
    "lla.get_longitude() ;\n",
    "lla.get_altitude() ;"
   ]
  },
  {
   "cell_type": "code",
   "execution_count": 58,
   "metadata": {},
   "outputs": [],
   "source": [
    "lla.to_vector() ;"
   ]
  },
  {
   "cell_type": "code",
   "execution_count": 59,
   "metadata": {},
   "outputs": [],
   "source": [
    "lla.to_cartesian(Earth.equatorial_radius, Earth.flattening) ;"
   ]
  },
  {
   "cell_type": "code",
   "execution_count": 60,
   "metadata": {},
   "outputs": [],
   "source": [
    "lla.to_string() ;"
   ]
  },
  {
   "cell_type": "markdown",
   "metadata": {},
   "source": [
    "#### Physics ▸ Coordinate ▸ Spherical ▸ AER"
   ]
  },
  {
   "cell_type": "markdown",
   "metadata": {},
   "source": [
    "**Physics ▸ Coordinate ▸ Spherical ▸ AER ▸ Constructors**"
   ]
  },
  {
   "cell_type": "code",
   "execution_count": 61,
   "metadata": {},
   "outputs": [],
   "source": [
    "azimuth = Angle.degrees(0.0) ;\n",
    "elevation = Angle.degrees(0.0) ;\n",
    "range = Length.meters(0.0) ;\n",
    "\n",
    "aer = AER(azimuth, elevation, range) ;"
   ]
  },
  {
   "cell_type": "code",
   "execution_count": 62,
   "metadata": {},
   "outputs": [],
   "source": [
    "AER.undefined() ;"
   ]
  },
  {
   "cell_type": "code",
   "execution_count": 63,
   "metadata": {},
   "outputs": [],
   "source": [
    "AER.vector(numpy.array((0.0, 0.0, 0.0))) ;"
   ]
  },
  {
   "cell_type": "code",
   "execution_count": 65,
   "metadata": {},
   "outputs": [],
   "source": [
    "from_position = Position.meters(numpy.array((0.0, 0.0, 0.0)), Frame.GCRF())\n",
    "to_position = Position.meters(numpy.array((1.0, 0.0, 1.0)), Frame.GCRF())\n",
    "\n",
    "AER.from_position_to_position(from_position, to_position) ;"
   ]
  },
  {
   "cell_type": "markdown",
   "metadata": {},
   "source": [
    "**Physics ▸ Coordinate ▸ Spherical ▸ AER ▸ Operators**"
   ]
  },
  {
   "cell_type": "code",
   "execution_count": 66,
   "metadata": {},
   "outputs": [],
   "source": [
    "aer == aer ;\n",
    "aer != aer ;"
   ]
  },
  {
   "cell_type": "markdown",
   "metadata": {},
   "source": [
    "**Physics ▸ Coordinate ▸ Spherical ▸ AER ▸ Methods**"
   ]
  },
  {
   "cell_type": "code",
   "execution_count": 67,
   "metadata": {},
   "outputs": [],
   "source": [
    "aer.is_defined() ;"
   ]
  },
  {
   "cell_type": "code",
   "execution_count": 68,
   "metadata": {},
   "outputs": [],
   "source": [
    "aer.get_azimuth() ;\n",
    "aer.get_elevation() ;\n",
    "aer.get_range() ;"
   ]
  },
  {
   "cell_type": "code",
   "execution_count": 69,
   "metadata": {},
   "outputs": [],
   "source": [
    "aer.to_vector() ;"
   ]
  },
  {
   "cell_type": "code",
   "execution_count": 70,
   "metadata": {},
   "outputs": [],
   "source": [
    "aer.to_string() ;"
   ]
  },
  {
   "cell_type": "markdown",
   "metadata": {},
   "source": [
    "### Physics ▸ Coordinate ▸ Transform"
   ]
  },
  {
   "cell_type": "markdown",
   "metadata": {},
   "source": [
    "**Physics ▸ Coordinate ▸ Transform ▸ Constructors**"
   ]
  },
  {
   "cell_type": "code",
   "execution_count": 71,
   "metadata": {},
   "outputs": [],
   "source": [
    "instant = Instant.date_time(DateTime(2018, 1, 1, 0, 0, 0), Scale.UTC) ;\n",
    "translation = numpy.array((0.0, 0.0, 0.0)) ;\n",
    "velocity = numpy.array((0.0, 0.0, 0.0)) ;\n",
    "orientation = Quaternion.unit() ;\n",
    "angular_velocity = numpy.array((0.0, 0.0, 0.0)) ;\n",
    "\n",
    "transform = Transform(instant, translation, velocity, orientation, angular_velocity, Transform.Type.Active) ;"
   ]
  },
  {
   "cell_type": "code",
   "execution_count": 72,
   "metadata": {},
   "outputs": [],
   "source": [
    "Transform.undefined() ;"
   ]
  },
  {
   "cell_type": "code",
   "execution_count": 73,
   "metadata": {},
   "outputs": [],
   "source": [
    "instant = Instant.date_time(DateTime(2018, 1, 1, 0, 0, 0), Scale.UTC) ;\n",
    "\n",
    "Transform.identity(instant) ;"
   ]
  },
  {
   "cell_type": "markdown",
   "metadata": {},
   "source": [
    "**Physics ▸ Coordinate ▸ Transform ▸ Operators**"
   ]
  },
  {
   "cell_type": "code",
   "execution_count": 74,
   "metadata": {},
   "outputs": [],
   "source": [
    "transform == transform ;\n",
    "transform != transform ;"
   ]
  },
  {
   "cell_type": "markdown",
   "metadata": {},
   "source": [
    "**Physics ▸ Coordinate ▸ Transform ▸ Methods**"
   ]
  },
  {
   "cell_type": "code",
   "execution_count": 75,
   "metadata": {},
   "outputs": [],
   "source": [
    "instant = Instant.J2000()\n",
    "position = numpy.array((0.0, 0.0, 0.0))\n",
    "transform = Transform.identity(instant)\n",
    "\n",
    "transformed_position = transform.apply_to_position(position)"
   ]
  },
  {
   "cell_type": "code",
   "execution_count": 76,
   "metadata": {},
   "outputs": [],
   "source": [
    "instant = Instant.J2000()\n",
    "position = numpy.array((0.0, 0.0, 0.0))\n",
    "velocity = numpy.array((0.0, 0.0, 0.0))\n",
    "transform = Transform.identity(instant)\n",
    "\n",
    "transformed_velocity = transform.apply_to_velocity(position, velocity)"
   ]
  },
  {
   "cell_type": "code",
   "execution_count": 77,
   "metadata": {},
   "outputs": [],
   "source": [
    "instant = Instant.J2000()\n",
    "vector = numpy.array((0.0, 0.0, 0.0))\n",
    "transform = Transform.identity(instant)\n",
    "\n",
    "transformed_vector = transform.apply_to_vector(vector)"
   ]
  },
  {
   "cell_type": "markdown",
   "metadata": {},
   "source": [
    "### Physics ▸ Coordinate ▸ Frame"
   ]
  },
  {
   "cell_type": "markdown",
   "metadata": {},
   "source": [
    "**Physics ▸ Coordinate ▸ Frame ▸ Constructors**"
   ]
  },
  {
   "cell_type": "code",
   "execution_count": 78,
   "metadata": {},
   "outputs": [],
   "source": [
    "gcrf = Frame.GCRF()\n",
    "itrf = Frame.ITRF()"
   ]
  },
  {
   "cell_type": "markdown",
   "metadata": {},
   "source": [
    "**Physics ▸ Coordinate ▸ Frame ▸ Operators**"
   ]
  },
  {
   "cell_type": "code",
   "execution_count": 79,
   "metadata": {},
   "outputs": [],
   "source": [
    "gcrf == gcrf ;\n",
    "gcrf != gcrf ;"
   ]
  },
  {
   "cell_type": "markdown",
   "metadata": {},
   "source": [
    "**Physics ▸ Coordinate ▸ Frame ▸ Methods**"
   ]
  },
  {
   "cell_type": "code",
   "execution_count": 80,
   "metadata": {},
   "outputs": [],
   "source": [
    "gcrf.is_defined() ;"
   ]
  },
  {
   "cell_type": "code",
   "execution_count": 81,
   "metadata": {},
   "outputs": [],
   "source": [
    "origin_frame = Frame.ITRF() ;\n",
    "destination_frame = Frame.GCRF() ;\n",
    "instant = Instant.date_time(DateTime(2018, 1, 1, 0, 0, 0), Scale.UTC) ;\n",
    "\n",
    "transform = origin_frame.get_transform_to(destination_frame, instant) ;"
   ]
  },
  {
   "cell_type": "markdown",
   "metadata": {},
   "source": [
    "#### Physics ▸ Coordinate ▸ Frame ▸ Providers ▸ Static"
   ]
  },
  {
   "cell_type": "markdown",
   "metadata": {},
   "source": [
    "**Physics ▸ Coordinate ▸ Frame ▸ Providers ▸ Constructors**"
   ]
  },
  {
   "cell_type": "code",
   "execution_count": 82,
   "metadata": {},
   "outputs": [],
   "source": [
    "static_transform = Transform.identity(Instant.J2000()) ;\n",
    "\n",
    "static_provider = StaticFrameProvider(static_transform)"
   ]
  },
  {
   "cell_type": "markdown",
   "metadata": {},
   "source": [
    "**Physics ▸ Coordinate ▸ Frame ▸ Providers ▸ Operators**"
   ]
  },
  {
   "cell_type": "code",
   "execution_count": 83,
   "metadata": {},
   "outputs": [],
   "source": [
    "static_provider == static_provider ;\n",
    "static_provider != static_provider ;"
   ]
  },
  {
   "cell_type": "markdown",
   "metadata": {},
   "source": [
    "**Physics ▸ Coordinate ▸ Frame ▸ Providers ▸ Methods**"
   ]
  },
  {
   "cell_type": "code",
   "execution_count": 84,
   "metadata": {},
   "outputs": [],
   "source": [
    "static_provider.is_defined() ;"
   ]
  },
  {
   "cell_type": "code",
   "execution_count": 85,
   "metadata": {},
   "outputs": [],
   "source": [
    "static_provider.get_transform_at(Instant.J2000()) ;"
   ]
  },
  {
   "cell_type": "markdown",
   "metadata": {},
   "source": [
    "#### Physics ▸ Coordinate ▸ Frame ▸ Providers ▸ Dynamic"
   ]
  },
  {
   "cell_type": "markdown",
   "metadata": {},
   "source": [
    "**Physics ▸ Coordinate ▸ Frame ▸ Providers ▸ Dynamic ▸ Constructors**"
   ]
  },
  {
   "cell_type": "code",
   "execution_count": 86,
   "metadata": {},
   "outputs": [],
   "source": [
    "def dynamic_provider_generator (instant):\n",
    "    \n",
    "    return Transform.identity(instant)\n",
    "\n",
    "dynamic_provider = DynamicFrameProvider(dynamic_provider_generator)"
   ]
  },
  {
   "cell_type": "markdown",
   "metadata": {},
   "source": [
    "**Physics ▸ Coordinate ▸ Frame ▸ Providers ▸ Dynamic ▸ Operators**"
   ]
  },
  {
   "cell_type": "code",
   "execution_count": 87,
   "metadata": {},
   "outputs": [],
   "source": [
    "dynamic_provider == dynamic_provider ;\n",
    "dynamic_provider != dynamic_provider ;"
   ]
  },
  {
   "cell_type": "markdown",
   "metadata": {},
   "source": [
    "**Physics ▸ Coordinate ▸ Frame ▸ Providers ▸ Dynamic ▸ Methods**"
   ]
  },
  {
   "cell_type": "code",
   "execution_count": 88,
   "metadata": {},
   "outputs": [],
   "source": [
    "dynamic_provider.is_defined() ;"
   ]
  },
  {
   "cell_type": "code",
   "execution_count": 89,
   "metadata": {},
   "outputs": [],
   "source": [
    "dynamic_provider.get_transform_at(Instant.J2000()) ;"
   ]
  },
  {
   "cell_type": "markdown",
   "metadata": {},
   "source": [
    "---"
   ]
  }
 ],
 "metadata": {
  "kernelspec": {
   "display_name": "Python 3",
   "language": "python",
   "name": "python3"
  },
  "language_info": {
   "codemirror_mode": {
    "name": "ipython",
    "version": 3
   },
   "file_extension": ".py",
   "mimetype": "text/x-python",
   "name": "python",
   "nbconvert_exporter": "python",
   "pygments_lexer": "ipython3",
   "version": "3.7.3"
  }
 },
 "nbformat": 4,
 "nbformat_minor": 4
}
