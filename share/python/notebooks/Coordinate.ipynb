{
 "cells": [
  {
   "cell_type": "markdown",
   "metadata": {},
   "source": [
    "# Library ▸ Physics ▸ Coordinate"
   ]
  },
  {
   "cell_type": "markdown",
   "metadata": {},
   "source": [
    "## Setup"
   ]
  },
  {
   "cell_type": "code",
   "execution_count": 1,
   "metadata": {},
   "outputs": [],
   "source": [
    "import sys\n",
    "\n",
    "! {sys.executable} -m pip install --quiet numpy --upgrade\n",
    "\n",
    "# ! {sys.executable} -m pip install --quiet --index-url https://test.pypi.org/simple/ LibraryCorePy==0.1.8\n",
    "# ! {sys.executable} -m pip install --quiet --index-url https://test.pypi.org/simple/ LibraryMathematicsPy==0.1.4"
   ]
  },
  {
   "cell_type": "code",
   "execution_count": 2,
   "metadata": {},
   "outputs": [],
   "source": [
    "import numpy"
   ]
  },
  {
   "cell_type": "code",
   "execution_count": 3,
   "metadata": {},
   "outputs": [
    {
     "name": "stderr",
     "output_type": "stream",
     "text": [
      "/opt/conda/lib/python3.6/importlib/_bootstrap.py:219: RuntimeWarning: to-Python converter for library::physics::time::DateTime already registered; second conversion method ignored.\n",
      "  return f(*args, **kwds)\n"
     ]
    }
   ],
   "source": [
    "import Library.Core as Core\n",
    "import Library.Mathematics as Mathematics\n",
    "import Library.Physics as Physics"
   ]
  },
  {
   "cell_type": "code",
   "execution_count": 4,
   "metadata": {},
   "outputs": [],
   "source": [
    "Quaternion = Mathematics.Geometry.D3.Transformations.Rotations.Quaternion\n",
    "\n",
    "Length = Physics.Units.Length\n",
    "Angle = Physics.Units.Angle\n",
    "Scale = Physics.Time.Scale\n",
    "Instant = Physics.Time.Instant\n",
    "DateTime = Physics.Time.DateTime\n",
    "Position = Physics.Coordinate.Position\n",
    "Velocity = Physics.Coordinate.Velocity\n",
    "LLA = Physics.Coordinate.Spherical.LLA\n",
    "AER = Physics.Coordinate.Spherical.AER\n",
    "Frame = Physics.Coordinate.Frame\n",
    "StaticFrameProvider = Physics.Coordinate.Frame.Providers.Static\n",
    "DynamicFrameProvider = Physics.Coordinate.Frame.Providers.Dynamic\n",
    "Transform = Physics.Coordinate.Transform\n",
    "Earth = Physics.Environment.Objects.CelestialBodies.Earth"
   ]
  },
  {
   "cell_type": "markdown",
   "metadata": {},
   "source": [
    "---"
   ]
  },
  {
   "cell_type": "markdown",
   "metadata": {},
   "source": [
    "## Physics ▸ Coordinate"
   ]
  },
  {
   "cell_type": "markdown",
   "metadata": {},
   "source": [
    "### Physics ▸ Coordinate ▸ Position"
   ]
  },
  {
   "cell_type": "markdown",
   "metadata": {},
   "source": [
    "**Physics ▸ Coordinate ▸ Position ▸ Constructors**"
   ]
  },
  {
   "cell_type": "code",
   "execution_count": 5,
   "metadata": {},
   "outputs": [],
   "source": [
    "position = Position(numpy.array((1.0, 2.0, 3.0)), Length.Unit.Meter, Frame.GCRF()) ;"
   ]
  },
  {
   "cell_type": "code",
   "execution_count": 6,
   "metadata": {},
   "outputs": [],
   "source": [
    "Position.Undefined() ;\n",
    "Position.Meters(numpy.array((0.0, 0.0, 0.0)), Frame.GCRF()) ;"
   ]
  },
  {
   "cell_type": "markdown",
   "metadata": {},
   "source": [
    "**Physics ▸ Coordinate ▸ Position ▸ Operators**"
   ]
  },
  {
   "cell_type": "code",
   "execution_count": 7,
   "metadata": {},
   "outputs": [],
   "source": [
    "position == position ;\n",
    "position != position ;"
   ]
  },
  {
   "cell_type": "markdown",
   "metadata": {},
   "source": [
    "**Physics ▸ Coordinate ▸ Position ▸ Methods**"
   ]
  },
  {
   "cell_type": "code",
   "execution_count": 8,
   "metadata": {},
   "outputs": [],
   "source": [
    "position.isDefined() ;"
   ]
  },
  {
   "cell_type": "code",
   "execution_count": 9,
   "metadata": {},
   "outputs": [],
   "source": [
    "position.isNear(position, Length.Meters(0.0)) ;"
   ]
  },
  {
   "cell_type": "code",
   "execution_count": 10,
   "metadata": {},
   "outputs": [],
   "source": [
    "position.accessFrame() ;"
   ]
  },
  {
   "cell_type": "code",
   "execution_count": 11,
   "metadata": {},
   "outputs": [],
   "source": [
    "position.getCoordinates() ;"
   ]
  },
  {
   "cell_type": "code",
   "execution_count": 12,
   "metadata": {},
   "outputs": [],
   "source": [
    "position.getUnit() ;"
   ]
  },
  {
   "cell_type": "code",
   "execution_count": 13,
   "metadata": {},
   "outputs": [],
   "source": [
    "position.inUnit(Length.Unit.Foot) ;"
   ]
  },
  {
   "cell_type": "code",
   "execution_count": 14,
   "metadata": {},
   "outputs": [],
   "source": [
    "position.inFrame(Frame.ITRF(), Instant.J2000()) ;"
   ]
  },
  {
   "cell_type": "code",
   "execution_count": 15,
   "metadata": {},
   "outputs": [],
   "source": [
    "position.toString() ;"
   ]
  },
  {
   "cell_type": "markdown",
   "metadata": {},
   "source": [
    "### Physics ▸ Coordinate ▸ Velocity"
   ]
  },
  {
   "cell_type": "markdown",
   "metadata": {},
   "source": [
    "**Physics ▸ Coordinate ▸ Velocity ▸ Constructors**"
   ]
  },
  {
   "cell_type": "code",
   "execution_count": 16,
   "metadata": {},
   "outputs": [],
   "source": [
    "velocity = Velocity(numpy.array((1.0, 2.0, 3.0)), Velocity.Unit.MeterPerSecond, Frame.GCRF()) ;"
   ]
  },
  {
   "cell_type": "code",
   "execution_count": 17,
   "metadata": {},
   "outputs": [],
   "source": [
    "Velocity.Undefined() ;\n",
    "Velocity.MetersPerSecond(numpy.array((0.0, 0.0, 0.0)), Frame.GCRF()) ;"
   ]
  },
  {
   "cell_type": "markdown",
   "metadata": {},
   "source": [
    "**Physics ▸ Coordinate ▸ Velocity ▸ Operators**"
   ]
  },
  {
   "cell_type": "code",
   "execution_count": 18,
   "metadata": {},
   "outputs": [],
   "source": [
    "velocity == velocity ;\n",
    "velocity != velocity ;"
   ]
  },
  {
   "cell_type": "markdown",
   "metadata": {},
   "source": [
    "**Physics ▸ Coordinate ▸ Velocity ▸ Methods**"
   ]
  },
  {
   "cell_type": "code",
   "execution_count": 19,
   "metadata": {},
   "outputs": [],
   "source": [
    "velocity.isDefined() ;"
   ]
  },
  {
   "cell_type": "code",
   "execution_count": 20,
   "metadata": {},
   "outputs": [],
   "source": [
    "velocity.accessFrame() ;"
   ]
  },
  {
   "cell_type": "code",
   "execution_count": 21,
   "metadata": {},
   "outputs": [],
   "source": [
    "velocity.getCoordinates() ;"
   ]
  },
  {
   "cell_type": "code",
   "execution_count": 22,
   "metadata": {},
   "outputs": [],
   "source": [
    "velocity.getUnit() ;"
   ]
  },
  {
   "cell_type": "code",
   "execution_count": 23,
   "metadata": {},
   "outputs": [],
   "source": [
    "velocity.inUnit(Velocity.Unit.MeterPerSecond) ;"
   ]
  },
  {
   "cell_type": "code",
   "execution_count": 24,
   "metadata": {},
   "outputs": [],
   "source": [
    "velocity.inFrame(Position.Meters(numpy.array((1.0, 2.0, 3.0)), Frame.GCRF()), Frame.ITRF(), Instant.J2000()) ;"
   ]
  },
  {
   "cell_type": "code",
   "execution_count": 25,
   "metadata": {},
   "outputs": [],
   "source": [
    "velocity.toString() ;"
   ]
  },
  {
   "cell_type": "markdown",
   "metadata": {},
   "source": [
    "### Physics ▸ Coordinate ▸ Spherical"
   ]
  },
  {
   "cell_type": "markdown",
   "metadata": {},
   "source": [
    "#### Physics ▸ Coordinate ▸ Spherical ▸ LLA"
   ]
  },
  {
   "cell_type": "markdown",
   "metadata": {},
   "source": [
    "**Physics ▸ Coordinate ▸ Spherical ▸ LLA ▸ Constructors**"
   ]
  },
  {
   "cell_type": "code",
   "execution_count": 26,
   "metadata": {},
   "outputs": [],
   "source": [
    "latitude = Angle.Degrees(0.0) ;\n",
    "longitude = Angle.Degrees(0.0) ;\n",
    "altitude = Length.Meters(0.0) ;\n",
    "\n",
    "lla = LLA(latitude, longitude, altitude) ;"
   ]
  },
  {
   "cell_type": "code",
   "execution_count": 27,
   "metadata": {},
   "outputs": [],
   "source": [
    "LLA.Undefined() ;"
   ]
  },
  {
   "cell_type": "code",
   "execution_count": 28,
   "metadata": {},
   "outputs": [],
   "source": [
    "LLA.Vector(numpy.array((0.0, 0.0, 0.0))) ;"
   ]
  },
  {
   "cell_type": "code",
   "execution_count": 29,
   "metadata": {},
   "outputs": [],
   "source": [
    "x_ECEF = numpy.array((7000e3, 0.0, 0.0)) ;\n",
    "\n",
    "LLA.Cartesian(x_ECEF, Earth.EquatorialRadius, Earth.Flattening) ;"
   ]
  },
  {
   "cell_type": "markdown",
   "metadata": {},
   "source": [
    "**Physics ▸ Coordinate ▸ Spherical ▸ LLA ▸ Operators**"
   ]
  },
  {
   "cell_type": "code",
   "execution_count": 30,
   "metadata": {},
   "outputs": [],
   "source": [
    "lla == lla ;\n",
    "lla != lla ;"
   ]
  },
  {
   "cell_type": "markdown",
   "metadata": {},
   "source": [
    "**Physics ▸ Coordinate ▸ Spherical ▸ LLA ▸ Methods**"
   ]
  },
  {
   "cell_type": "code",
   "execution_count": 31,
   "metadata": {},
   "outputs": [],
   "source": [
    "lla.isDefined() ;"
   ]
  },
  {
   "cell_type": "code",
   "execution_count": 32,
   "metadata": {},
   "outputs": [],
   "source": [
    "lla.getLatitude() ;\n",
    "lla.getLongitude() ;\n",
    "lla.getAltitude() ;"
   ]
  },
  {
   "cell_type": "code",
   "execution_count": 33,
   "metadata": {},
   "outputs": [],
   "source": [
    "lla.toVector() ;"
   ]
  },
  {
   "cell_type": "code",
   "execution_count": 34,
   "metadata": {},
   "outputs": [],
   "source": [
    "lla.toCartesian(Earth.EquatorialRadius, Earth.Flattening) ;"
   ]
  },
  {
   "cell_type": "code",
   "execution_count": 35,
   "metadata": {},
   "outputs": [],
   "source": [
    "lla.toString() ;"
   ]
  },
  {
   "cell_type": "markdown",
   "metadata": {},
   "source": [
    "#### Physics ▸ Coordinate ▸ Spherical ▸ AER"
   ]
  },
  {
   "cell_type": "markdown",
   "metadata": {},
   "source": [
    "**Physics ▸ Coordinate ▸ Spherical ▸ AER ▸ Constructors**"
   ]
  },
  {
   "cell_type": "code",
   "execution_count": 36,
   "metadata": {},
   "outputs": [],
   "source": [
    "azimuth = Angle.Degrees(0.0) ;\n",
    "elevation = Angle.Degrees(0.0) ;\n",
    "range = Length.Meters(0.0) ;\n",
    "\n",
    "aer = AER(azimuth, elevation, range) ;"
   ]
  },
  {
   "cell_type": "code",
   "execution_count": 37,
   "metadata": {},
   "outputs": [],
   "source": [
    "AER.Undefined() ;"
   ]
  },
  {
   "cell_type": "code",
   "execution_count": 38,
   "metadata": {},
   "outputs": [],
   "source": [
    "AER.Vector(numpy.array((0.0, 0.0, 0.0))) ;"
   ]
  },
  {
   "cell_type": "code",
   "execution_count": 39,
   "metadata": {},
   "outputs": [],
   "source": [
    "from_position = Position.Meters(numpy.array((0.0, 0.0, 0.0)), Frame.GCRF())\n",
    "to_position = Position.Meters(numpy.array((1.0, 0.0, 1.0)), Frame.GCRF())\n",
    "\n",
    "AER.FromPositionToPosition(from_position, to_position) ;"
   ]
  },
  {
   "cell_type": "markdown",
   "metadata": {},
   "source": [
    "**Physics ▸ Coordinate ▸ Spherical ▸ AER ▸ Operators**"
   ]
  },
  {
   "cell_type": "code",
   "execution_count": 40,
   "metadata": {},
   "outputs": [],
   "source": [
    "aer == aer ;\n",
    "aer != aer ;"
   ]
  },
  {
   "cell_type": "markdown",
   "metadata": {},
   "source": [
    "**Physics ▸ Coordinate ▸ Spherical ▸ AER ▸ Methods**"
   ]
  },
  {
   "cell_type": "code",
   "execution_count": 41,
   "metadata": {},
   "outputs": [],
   "source": [
    "aer.isDefined() ;"
   ]
  },
  {
   "cell_type": "code",
   "execution_count": 42,
   "metadata": {},
   "outputs": [],
   "source": [
    "aer.getAzimuth() ;\n",
    "aer.getElevation() ;\n",
    "aer.getRange() ;"
   ]
  },
  {
   "cell_type": "code",
   "execution_count": 43,
   "metadata": {},
   "outputs": [],
   "source": [
    "aer.toVector() ;"
   ]
  },
  {
   "cell_type": "code",
   "execution_count": 44,
   "metadata": {},
   "outputs": [],
   "source": [
    "aer.toString() ;"
   ]
  },
  {
   "cell_type": "markdown",
   "metadata": {},
   "source": [
    "### Physics ▸ Coordinate ▸ Transform"
   ]
  },
  {
   "cell_type": "markdown",
   "metadata": {},
   "source": [
    "**Physics ▸ Coordinate ▸ Transform ▸ Constructors**"
   ]
  },
  {
   "cell_type": "code",
   "execution_count": 45,
   "metadata": {},
   "outputs": [],
   "source": [
    "instant = Instant.DateTime(DateTime(2018, 1, 1, 0, 0, 0), Scale.UTC) ;\n",
    "translation = numpy.array((0.0, 0.0, 0.0)) ;\n",
    "velocity = numpy.array((0.0, 0.0, 0.0)) ;\n",
    "orientation = Quaternion.Unit() ;\n",
    "angular_velocity = numpy.array((0.0, 0.0, 0.0)) ;\n",
    "\n",
    "transform = Transform(instant, translation, velocity, orientation, angular_velocity, Transform.Type.Active) ;"
   ]
  },
  {
   "cell_type": "code",
   "execution_count": 46,
   "metadata": {},
   "outputs": [],
   "source": [
    "Transform.Undefined() ;"
   ]
  },
  {
   "cell_type": "code",
   "execution_count": 47,
   "metadata": {},
   "outputs": [],
   "source": [
    "instant = Instant.DateTime(DateTime(2018, 1, 1, 0, 0, 0), Scale.UTC) ;\n",
    "\n",
    "Transform.Identity(instant) ;"
   ]
  },
  {
   "cell_type": "markdown",
   "metadata": {},
   "source": [
    "**Physics ▸ Coordinate ▸ Transform ▸ Operators**"
   ]
  },
  {
   "cell_type": "code",
   "execution_count": 48,
   "metadata": {},
   "outputs": [],
   "source": [
    "transform == transform ;\n",
    "transform != transform ;"
   ]
  },
  {
   "cell_type": "markdown",
   "metadata": {},
   "source": [
    "**Physics ▸ Coordinate ▸ Transform ▸ Methods**"
   ]
  },
  {
   "cell_type": "code",
   "execution_count": 49,
   "metadata": {},
   "outputs": [],
   "source": [
    "instant = Instant.J2000()\n",
    "position = numpy.array((0.0, 0.0, 0.0))\n",
    "transform = Transform.Identity(instant)\n",
    "\n",
    "transformed_position = transform.applyToPosition(position)"
   ]
  },
  {
   "cell_type": "code",
   "execution_count": 50,
   "metadata": {},
   "outputs": [],
   "source": [
    "instant = Instant.J2000()\n",
    "position = numpy.array((0.0, 0.0, 0.0))\n",
    "velocity = numpy.array((0.0, 0.0, 0.0))\n",
    "transform = Transform.Identity(instant)\n",
    "\n",
    "transformed_velocity = transform.applyToVelocity(position, velocity)"
   ]
  },
  {
   "cell_type": "code",
   "execution_count": 51,
   "metadata": {},
   "outputs": [],
   "source": [
    "instant = Instant.J2000()\n",
    "vector = numpy.array((0.0, 0.0, 0.0))\n",
    "transform = Transform.Identity(instant)\n",
    "\n",
    "transformed_vector = transform.applyToVector(vector)"
   ]
  },
  {
   "cell_type": "markdown",
   "metadata": {},
   "source": [
    "### Physics ▸ Coordinate ▸ Frame"
   ]
  },
  {
   "cell_type": "markdown",
   "metadata": {},
   "source": [
    "**Physics ▸ Coordinate ▸ Frame ▸ Constructors**"
   ]
  },
  {
   "cell_type": "code",
   "execution_count": 52,
   "metadata": {},
   "outputs": [],
   "source": [
    "gcrf = Frame.GCRF()\n",
    "itrf = Frame.ITRF()"
   ]
  },
  {
   "cell_type": "markdown",
   "metadata": {},
   "source": [
    "**Physics ▸ Coordinate ▸ Frame ▸ Operators**"
   ]
  },
  {
   "cell_type": "code",
   "execution_count": 53,
   "metadata": {},
   "outputs": [],
   "source": [
    "gcrf == gcrf ;\n",
    "gcrf != gcrf ;"
   ]
  },
  {
   "cell_type": "markdown",
   "metadata": {},
   "source": [
    "**Physics ▸ Coordinate ▸ Frame ▸ Methods**"
   ]
  },
  {
   "cell_type": "code",
   "execution_count": 54,
   "metadata": {},
   "outputs": [],
   "source": [
    "gcrf.isDefined() ;"
   ]
  },
  {
   "cell_type": "code",
   "execution_count": 55,
   "metadata": {},
   "outputs": [],
   "source": [
    "origin_frame = Frame.ITRF() ;\n",
    "destination_frame = Frame.GCRF() ;\n",
    "instant = Instant.DateTime(DateTime(2018, 1, 1, 0, 0, 0), Scale.UTC) ;\n",
    "\n",
    "transform = origin_frame.getTransformTo(destination_frame, instant) ;"
   ]
  },
  {
   "cell_type": "markdown",
   "metadata": {},
   "source": [
    "#### Physics ▸ Coordinate ▸ Frame ▸ Providers ▸ Static"
   ]
  },
  {
   "cell_type": "markdown",
   "metadata": {},
   "source": [
    "**Physics ▸ Coordinate ▸ Frame ▸ Providers ▸ Constructors**"
   ]
  },
  {
   "cell_type": "code",
   "execution_count": 56,
   "metadata": {},
   "outputs": [],
   "source": [
    "static_transform = Transform.Identity(Instant.J2000()) ;\n",
    "\n",
    "static_provider = StaticFrameProvider(static_transform)"
   ]
  },
  {
   "cell_type": "markdown",
   "metadata": {},
   "source": [
    "**Physics ▸ Coordinate ▸ Frame ▸ Providers ▸ Operators**"
   ]
  },
  {
   "cell_type": "code",
   "execution_count": 57,
   "metadata": {},
   "outputs": [],
   "source": [
    "static_provider == static_provider ;\n",
    "static_provider != static_provider ;"
   ]
  },
  {
   "cell_type": "markdown",
   "metadata": {},
   "source": [
    "**Physics ▸ Coordinate ▸ Frame ▸ Providers ▸ Methods**"
   ]
  },
  {
   "cell_type": "code",
   "execution_count": 58,
   "metadata": {},
   "outputs": [],
   "source": [
    "static_provider.isDefined() ;"
   ]
  },
  {
   "cell_type": "code",
   "execution_count": 59,
   "metadata": {},
   "outputs": [],
   "source": [
    "static_provider.getTransformAt(Instant.J2000()) ;"
   ]
  },
  {
   "cell_type": "markdown",
   "metadata": {},
   "source": [
    "#### Physics ▸ Coordinate ▸ Frame ▸ Providers ▸ Dynamic"
   ]
  },
  {
   "cell_type": "markdown",
   "metadata": {},
   "source": [
    "**Physics ▸ Coordinate ▸ Frame ▸ Providers ▸ Dynamic ▸ Constructors**"
   ]
  },
  {
   "cell_type": "code",
   "execution_count": 60,
   "metadata": {},
   "outputs": [],
   "source": [
    "def dynamic_provider_generator (instant):\n",
    "    \n",
    "    return Transform.Identity(instant)\n",
    "\n",
    "dynamic_provider = DynamicFrameProvider(dynamic_provider_generator)"
   ]
  },
  {
   "cell_type": "markdown",
   "metadata": {},
   "source": [
    "**Physics ▸ Coordinate ▸ Frame ▸ Providers ▸ Dynamic ▸ Operators**"
   ]
  },
  {
   "cell_type": "code",
   "execution_count": 61,
   "metadata": {},
   "outputs": [],
   "source": [
    "dynamic_provider == dynamic_provider ;\n",
    "dynamic_provider != dynamic_provider ;"
   ]
  },
  {
   "cell_type": "markdown",
   "metadata": {},
   "source": [
    "**Physics ▸ Coordinate ▸ Frame ▸ Providers ▸ Dynamic ▸ Methods**"
   ]
  },
  {
   "cell_type": "code",
   "execution_count": 62,
   "metadata": {},
   "outputs": [],
   "source": [
    "dynamic_provider.isDefined() ;"
   ]
  },
  {
   "cell_type": "code",
   "execution_count": 64,
   "metadata": {},
   "outputs": [
    {
     "data": {
      "text/plain": [
       "-- Transform ---------------------------------------------------------------------------------------\n",
       "    Instant:                                 2000-01-01 11:58:55.816 [UTC]            \n",
       "    Translation:                             [0.0, 0.0, 0.0] [m]                      \n",
       "    Velocity:                                [0.0, 0.0, 0.0] [m/s]                    \n",
       "    Orientation:                             [0.0, 0.0, 0.0, 1.0] == [0.0, 0.0, 1.0] : 0.0 [rad] \n",
       "    Angular Velocity:                        [0.0, 0.0, 0.0] [rad/s]                  \n",
       "----------------------------------------------------------------------------------------------------"
      ]
     },
     "execution_count": 64,
     "metadata": {},
     "output_type": "execute_result"
    }
   ],
   "source": [
    "dynamic_provider.getTransformAt(Instant.J2000()) ;"
   ]
  },
  {
   "cell_type": "code",
   "execution_count": null,
   "metadata": {},
   "outputs": [],
   "source": []
  }
 ],
 "metadata": {
  "kernelspec": {
   "display_name": "Python 3",
   "language": "python",
   "name": "python3"
  },
  "language_info": {
   "codemirror_mode": {
    "name": "ipython",
    "version": 3
   },
   "file_extension": ".py",
   "mimetype": "text/x-python",
   "name": "python",
   "nbconvert_exporter": "python",
   "pygments_lexer": "ipython3",
   "version": "3.6.5"
  }
 },
 "nbformat": 4,
 "nbformat_minor": 2
}
